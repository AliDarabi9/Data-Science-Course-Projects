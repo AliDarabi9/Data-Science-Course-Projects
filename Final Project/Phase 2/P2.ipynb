{
 "cells": [
  {
   "cell_type": "markdown",
   "metadata": {},
   "source": [
    "### Ali Darabi - 810100264\n",
    "### Hesam Ramezanian - 810100248"
   ]
  },
  {
   "cell_type": "markdown",
   "metadata": {},
   "source": [
    "# Data Science - Project Phase 2"
   ]
  },
  {
   "cell_type": "code",
   "execution_count": 1,
   "metadata": {},
   "outputs": [
    {
     "name": "stderr",
     "output_type": "stream",
     "text": [
      "c:\\Users\\alida\\AppData\\Local\\Programs\\Python\\Python312\\Lib\\site-packages\\tqdm\\auto.py:21: TqdmWarning: IProgress not found. Please update jupyter and ipywidgets. See https://ipywidgets.readthedocs.io/en/stable/user_install.html\n",
      "  from .autonotebook import tqdm as notebook_tqdm\n"
     ]
    }
   ],
   "source": [
    "import pandas as pd\n",
    "import numpy as np\n",
    "import plotly.graph_objects as go\n",
    "from sklearn.preprocessing import StandardScaler\n",
    "from sklearn.model_selection import train_test_split\n",
    "import math\n",
    "from sklearn.linear_model import LinearRegression\n",
    "from sklearn.metrics import r2_score, mean_squared_error\n",
    "from sklearn.decomposition import PCA\n",
    "import matplotlib.pyplot as plt\n",
    "from tensorflow.keras.models import Sequential\n",
    "from tensorflow.keras.layers import Dense\n",
    "from tensorflow.keras.optimizers import Adam\n",
    "from tqdm.keras import TqdmCallback \n",
    "import xgboost as xgb\n",
    "from sklearn.tree import DecisionTreeClassifier\n",
    "from sklearn.metrics import accuracy_score, precision_score, recall_score, f1_score, classification_report, confusion_matrix\n",
    "import warnings"
   ]
  },
  {
   "cell_type": "code",
   "execution_count": 2,
   "metadata": {},
   "outputs": [
    {
     "name": "stdout",
     "output_type": "stream",
     "text": [
      "<class 'pandas.core.frame.DataFrame'>\n",
      "RangeIndex: 316397 entries, 0 to 316396\n",
      "Data columns (total 24 columns):\n",
      " #   Column               Non-Null Count   Dtype  \n",
      "---  ------               --------------   -----  \n",
      " 0   Lng                  316397 non-null  float64\n",
      " 1   Lat                  316397 non-null  float64\n",
      " 2   Cid                  316397 non-null  int64  \n",
      " 3   followers            316397 non-null  int64  \n",
      " 4   totalPrice           316397 non-null  float64\n",
      " 5   price                316397 non-null  int64  \n",
      " 6   square               316397 non-null  float64\n",
      " 7   livingRoom           316397 non-null  int64  \n",
      " 8   drawingRoom          316397 non-null  int64  \n",
      " 9   kitchen              316397 non-null  int64  \n",
      " 10  bathRoom             316397 non-null  int64  \n",
      " 11  buildingType         316397 non-null  float64\n",
      " 12  constructionTime     316397 non-null  int64  \n",
      " 13  renovationCondition  316397 non-null  int64  \n",
      " 14  buildingStructure    316397 non-null  int64  \n",
      " 15  ladderRatio          316397 non-null  float64\n",
      " 16  elevator             316397 non-null  float64\n",
      " 17  fiveYearsProperty    316397 non-null  int64  \n",
      " 18  subway               316397 non-null  int64  \n",
      " 19  district             316397 non-null  int64  \n",
      " 20  communityAverage     316397 non-null  float64\n",
      " 21  tradeTimeYear        316397 non-null  int64  \n",
      " 22  tradeTimeMonth       316397 non-null  int64  \n",
      " 23  floorNumber          316397 non-null  int64  \n",
      "dtypes: float64(8), int64(16)\n",
      "memory usage: 57.9 MB\n"
     ]
    }
   ],
   "source": [
    "df = pd.read_csv(\"P1-Data.csv\")\n",
    "df.info()"
   ]
  },
  {
   "cell_type": "markdown",
   "metadata": {},
   "source": [
    "<span style=\"color: cyan;\">We create the following columns in the EDA part: `tradeTimeYear`, `tradeTimeMonth`, and `floorNumber`.</span>"
   ]
  },
  {
   "cell_type": "markdown",
   "metadata": {},
   "source": [
    "## <span style=\"color: orange;\">**Part 1: Preprocessing**</span>"
   ]
  },
  {
   "cell_type": "markdown",
   "metadata": {},
   "source": [
    "<span style=\"color: cyan;\">**We did most of the preprocessing in Phase One.**</span>"
   ]
  },
  {
   "cell_type": "code",
   "execution_count": 3,
   "metadata": {},
   "outputs": [],
   "source": [
    "colToRemove = ['ladderRatio', 'tradeTimeMonth', 'Cid']\n",
    "df = df.drop(colToRemove, axis=1)"
   ]
  },
  {
   "cell_type": "markdown",
   "metadata": {},
   "source": [
    "<span style=\"color: cyan;\">We drop these columns because they have zero correlation with our target column.</span>"
   ]
  },
  {
   "cell_type": "code",
   "execution_count": 4,
   "metadata": {},
   "outputs": [],
   "source": [
    "df = df.drop('totalPrice', axis=1)"
   ]
  },
  {
   "cell_type": "markdown",
   "metadata": {},
   "source": [
    "<span style=\"color: cyan;\">We drop the `totalPrice` column because we can infer our target column from this column.</span>"
   ]
  },
  {
   "cell_type": "code",
   "execution_count": 5,
   "metadata": {},
   "outputs": [],
   "source": [
    "def removeOutliersIQR(column):\n",
    "    Q1 = df[column].quantile(0.25)\n",
    "    Q3 = df[column].quantile(0.75)\n",
    "    IQR = Q3 - Q1\n",
    "    lowerBound = Q1 - 1.5 * IQR\n",
    "    upperBound = Q3 + 1.5 * IQR\n",
    "    outliers = df[(df[column] < lowerBound) | (df[column] > upperBound)]\n",
    "    print(f\"Number of outliers in '{column}': {len(outliers)}\")\n",
    "    dfCleaned = df[~((df[column] < lowerBound) | (df[column] > upperBound))]\n",
    "    return dfCleaned"
   ]
  },
  {
   "cell_type": "code",
   "execution_count": 6,
   "metadata": {},
   "outputs": [
    {
     "name": "stdout",
     "output_type": "stream",
     "text": [
      "Number of outliers in 'price': 11545\n",
      "Number of outliers in 'communityAverage': 6778\n"
     ]
    }
   ],
   "source": [
    "df = removeOutliersIQR('price')\n",
    "df = removeOutliersIQR('communityAverage')"
   ]
  },
  {
   "cell_type": "markdown",
   "metadata": {},
   "source": [
    "<span style=\"color: cyan;\">We drop outliers in the `price` and `communityAverage` columns because they might cause our model to have high variance in the future.</span>"
   ]
  },
  {
   "cell_type": "code",
   "execution_count": 7,
   "metadata": {},
   "outputs": [],
   "source": [
    "columnsToStandardize = df.columns.difference(['Lat', 'Lng'])\n",
    "scaler = StandardScaler()\n",
    "scaler.fit(df[columnsToStandardize])\n",
    "df[columnsToStandardize] = scaler.transform(df[columnsToStandardize])"
   ]
  },
  {
   "cell_type": "markdown",
   "metadata": {},
   "source": [
    "<span style=\"color: cyan;\">We standardize our data to ensure that all features are on the same scale, which helps algorithms converge faster and prevents features with larger magnitudes from dominating those with smaller magnitudes during model training.</span>"
   ]
  },
  {
   "cell_type": "markdown",
   "metadata": {},
   "source": [
    "## <span style=\"color: orange;\">**Part 2: Feature Engineering and Selection**</span>"
   ]
  },
  {
   "cell_type": "code",
   "execution_count": 8,
   "metadata": {},
   "outputs": [],
   "source": [
    "quantiles = df['price'].quantile([0.33, 0.66])\n",
    "def classifyPrice(price):\n",
    "    if price <= quantiles[0.33]:\n",
    "        return 'Low'\n",
    "    elif price <= quantiles[0.66]:\n",
    "        return 'Medium'\n",
    "    else:\n",
    "        return 'High'\n",
    "df['PriceClass'] = df['price'].apply(classifyPrice)"
   ]
  },
  {
   "cell_type": "markdown",
   "metadata": {},
   "source": [
    "<span style=\"color:cyan\">We created a new column called `PriceClass` because our target column needs to be categorical for classification models.</span>"
   ]
  },
  {
   "cell_type": "code",
   "execution_count": 9,
   "metadata": {},
   "outputs": [],
   "source": [
    "targetColumn = 'price'\n",
    "X = df.drop(columns=[targetColumn])  \n",
    "y = df[targetColumn]  \n",
    "XTrain, XTest, yTrain, yTest = train_test_split(X, y, test_size=0.1, random_state=32)\n",
    "trainDf = pd.concat([XTrain, yTrain], axis=1)\n",
    "testDf = pd.concat([XTest, yTest], axis=1)"
   ]
  },
  {
   "cell_type": "code",
   "execution_count": 10,
   "metadata": {},
   "outputs": [],
   "source": [
    "trainDataPriceClass = trainDf['PriceClass']\n",
    "testDataPriceClass = testDf['PriceClass']\n",
    "trainDf = trainDf.drop('PriceClass', axis=1)\n",
    "testDf = testDf.drop('PriceClass', axis=1)\n",
    "XTrain = XTrain.drop('PriceClass', axis=1)\n",
    "XTest = XTest.drop('PriceClass', axis=1)"
   ]
  },
  {
   "cell_type": "code",
   "execution_count": 11,
   "metadata": {},
   "outputs": [],
   "source": [
    "def runLinearRegression(XTrain, XTest, yTrain, yTest):  \n",
    "    model = LinearRegression()\n",
    "    model.fit(XTrain, yTrain)\n",
    "    yPred = model.predict(XTest)\n",
    "    r2 = r2_score(yTest, yPred)\n",
    "    rmse = math.sqrt(mean_squared_error(yTest, yPred))\n",
    "    print(\"R2 Score:\", r2)\n",
    "    print(\"RMSE:\", rmse)"
   ]
  },
  {
   "cell_type": "code",
   "execution_count": 12,
   "metadata": {},
   "outputs": [
    {
     "name": "stdout",
     "output_type": "stream",
     "text": [
      "R2 Score: 0.7572994253126245\n",
      "RMSE: 0.4882987274090942\n"
     ]
    }
   ],
   "source": [
    "runLinearRegression(XTrain, XTest, yTrain, yTest)"
   ]
  },
  {
   "cell_type": "markdown",
   "metadata": {},
   "source": [
    "<span style=\"color: cyan;\">We train a regression model and calculate RMSE and R2 score before feature engineering so we can compare results afterward.</span>"
   ]
  },
  {
   "cell_type": "code",
   "execution_count": 13,
   "metadata": {},
   "outputs": [],
   "source": [
    "avgLng = 116.4074\n",
    "avgLat = 39.9042\n",
    "\n",
    "def haversineFormula(lon1, lat1, lon2, lat2):\n",
    "    lon1, lat1, lon2, lat2 = map(np.radians, [lon1, lat1, lon2, lat2])\n",
    "    dlon = lon2 - lon1\n",
    "    dlat = lat2 - lat1\n",
    "    a = np.sin(dlat / 2) ** 2 + np.cos(lat1) * np.cos(lat2) * np.sin(dlon / 2) ** 2\n",
    "    c = 2 * np.arctan2(np.sqrt(a), np.sqrt(1 - a))\n",
    "    r = 6371\n",
    "    return 1/(1+(c * r))\n",
    "\n",
    "trainDf['distanceToCenter'] = trainDf.apply(lambda row: haversineFormula(row['Lng'], row['Lat'], avgLng, avgLat), axis=1)\n",
    "testDf['distanceToCenter'] = testDf.apply(lambda row: haversineFormula(row['Lng'], row['Lat'], avgLng, avgLat), axis=1)\n",
    "colToRemove = ['Lng', 'Lat']\n",
    "trainDf = trainDf.drop(colToRemove, axis=1)\n",
    "testDf = testDf.drop(colToRemove, axis=1)"
   ]
  },
  {
   "cell_type": "markdown",
   "metadata": {},
   "source": [
    "<span style=\"color:cyan\">Based on the previous phase, we understand that there is a relationship between house prices and the distance to the city center. Therefore, we created a new column called `distanceToCenter`.</span>"
   ]
  },
  {
   "cell_type": "code",
   "execution_count": 14,
   "metadata": {},
   "outputs": [
    {
     "data": {
      "text/html": [
       "<div>\n",
       "<style scoped>\n",
       "    .dataframe tbody tr th:only-of-type {\n",
       "        vertical-align: middle;\n",
       "    }\n",
       "\n",
       "    .dataframe tbody tr th {\n",
       "        vertical-align: top;\n",
       "    }\n",
       "\n",
       "    .dataframe thead th {\n",
       "        text-align: right;\n",
       "    }\n",
       "</style>\n",
       "<table border=\"1\" class=\"dataframe\">\n",
       "  <thead>\n",
       "    <tr style=\"text-align: right;\">\n",
       "      <th></th>\n",
       "      <th>followers</th>\n",
       "      <th>square</th>\n",
       "      <th>livingRoom</th>\n",
       "      <th>drawingRoom</th>\n",
       "      <th>kitchen</th>\n",
       "      <th>bathRoom</th>\n",
       "      <th>buildingType</th>\n",
       "      <th>constructionTime</th>\n",
       "      <th>renovationCondition</th>\n",
       "      <th>buildingStructure</th>\n",
       "      <th>elevator</th>\n",
       "      <th>fiveYearsProperty</th>\n",
       "      <th>subway</th>\n",
       "      <th>district</th>\n",
       "      <th>communityAverage</th>\n",
       "      <th>tradeTimeYear</th>\n",
       "      <th>floorNumber</th>\n",
       "      <th>price</th>\n",
       "      <th>distanceToCenter</th>\n",
       "      <th>districtLevel</th>\n",
       "    </tr>\n",
       "  </thead>\n",
       "  <tbody>\n",
       "    <tr>\n",
       "      <th>0</th>\n",
       "      <td>-0.421912</td>\n",
       "      <td>-0.166916</td>\n",
       "      <td>-1.313392</td>\n",
       "      <td>-0.338683</td>\n",
       "      <td>0.052225</td>\n",
       "      <td>-0.440956</td>\n",
       "      <td>-1.571416</td>\n",
       "      <td>0.054549</td>\n",
       "      <td>-1.209114</td>\n",
       "      <td>0.797615</td>\n",
       "      <td>0.841453</td>\n",
       "      <td>-1.352681</td>\n",
       "      <td>0.830900</td>\n",
       "      <td>0.113412</td>\n",
       "      <td>0.108841</td>\n",
       "      <td>-1.051244</td>\n",
       "      <td>2.353706</td>\n",
       "      <td>0.039759</td>\n",
       "      <td>0.091180</td>\n",
       "      <td>9</td>\n",
       "    </tr>\n",
       "    <tr>\n",
       "      <th>1</th>\n",
       "      <td>-0.392354</td>\n",
       "      <td>1.106654</td>\n",
       "      <td>1.293347</td>\n",
       "      <td>1.572176</td>\n",
       "      <td>0.052225</td>\n",
       "      <td>1.897958</td>\n",
       "      <td>0.785036</td>\n",
       "      <td>0.766980</td>\n",
       "      <td>1.069568</td>\n",
       "      <td>0.797615</td>\n",
       "      <td>-1.188421</td>\n",
       "      <td>0.739273</td>\n",
       "      <td>0.830900</td>\n",
       "      <td>-0.247828</td>\n",
       "      <td>-1.011557</td>\n",
       "      <td>0.162215</td>\n",
       "      <td>-0.949416</td>\n",
       "      <td>-0.913137</td>\n",
       "      <td>0.048354</td>\n",
       "      <td>5</td>\n",
       "    </tr>\n",
       "    <tr>\n",
       "      <th>2</th>\n",
       "      <td>-0.067219</td>\n",
       "      <td>1.170736</td>\n",
       "      <td>1.293347</td>\n",
       "      <td>1.572176</td>\n",
       "      <td>0.052225</td>\n",
       "      <td>1.897958</td>\n",
       "      <td>-0.000448</td>\n",
       "      <td>0.766980</td>\n",
       "      <td>-1.209114</td>\n",
       "      <td>0.797615</td>\n",
       "      <td>0.841453</td>\n",
       "      <td>0.739273</td>\n",
       "      <td>-1.203515</td>\n",
       "      <td>0.113412</td>\n",
       "      <td>-0.141311</td>\n",
       "      <td>0.768944</td>\n",
       "      <td>1.718490</td>\n",
       "      <td>-0.226529</td>\n",
       "      <td>0.088598</td>\n",
       "      <td>9</td>\n",
       "    </tr>\n",
       "    <tr>\n",
       "      <th>3</th>\n",
       "      <td>-0.362796</td>\n",
       "      <td>-0.765669</td>\n",
       "      <td>-0.010022</td>\n",
       "      <td>-0.338683</td>\n",
       "      <td>0.052225</td>\n",
       "      <td>-0.440956</td>\n",
       "      <td>0.785036</td>\n",
       "      <td>-0.895360</td>\n",
       "      <td>0.310007</td>\n",
       "      <td>-1.314929</td>\n",
       "      <td>-1.188421</td>\n",
       "      <td>0.739273</td>\n",
       "      <td>0.830900</td>\n",
       "      <td>0.835892</td>\n",
       "      <td>-0.690854</td>\n",
       "      <td>0.162215</td>\n",
       "      <td>-0.949416</td>\n",
       "      <td>-0.597450</td>\n",
       "      <td>0.060895</td>\n",
       "      <td>7</td>\n",
       "    </tr>\n",
       "    <tr>\n",
       "      <th>4</th>\n",
       "      <td>-0.096777</td>\n",
       "      <td>-0.242700</td>\n",
       "      <td>-0.010022</td>\n",
       "      <td>-0.338683</td>\n",
       "      <td>0.052225</td>\n",
       "      <td>-0.440956</td>\n",
       "      <td>0.785036</td>\n",
       "      <td>0.885719</td>\n",
       "      <td>1.069568</td>\n",
       "      <td>0.797615</td>\n",
       "      <td>0.841453</td>\n",
       "      <td>0.739273</td>\n",
       "      <td>0.830900</td>\n",
       "      <td>0.474652</td>\n",
       "      <td>0.575416</td>\n",
       "      <td>0.768944</td>\n",
       "      <td>0.575102</td>\n",
       "      <td>1.090296</td>\n",
       "      <td>0.055900</td>\n",
       "      <td>10</td>\n",
       "    </tr>\n",
       "    <tr>\n",
       "      <th>...</th>\n",
       "      <td>...</td>\n",
       "      <td>...</td>\n",
       "      <td>...</td>\n",
       "      <td>...</td>\n",
       "      <td>...</td>\n",
       "      <td>...</td>\n",
       "      <td>...</td>\n",
       "      <td>...</td>\n",
       "      <td>...</td>\n",
       "      <td>...</td>\n",
       "      <td>...</td>\n",
       "      <td>...</td>\n",
       "      <td>...</td>\n",
       "      <td>...</td>\n",
       "      <td>...</td>\n",
       "      <td>...</td>\n",
       "      <td>...</td>\n",
       "      <td>...</td>\n",
       "      <td>...</td>\n",
       "      <td>...</td>\n",
       "    </tr>\n",
       "    <tr>\n",
       "      <th>268261</th>\n",
       "      <td>-0.185450</td>\n",
       "      <td>-0.862350</td>\n",
       "      <td>-1.313392</td>\n",
       "      <td>-0.338683</td>\n",
       "      <td>0.052225</td>\n",
       "      <td>-0.440956</td>\n",
       "      <td>-0.000448</td>\n",
       "      <td>0.648242</td>\n",
       "      <td>1.069568</td>\n",
       "      <td>0.797615</td>\n",
       "      <td>0.841453</td>\n",
       "      <td>0.739273</td>\n",
       "      <td>-1.203515</td>\n",
       "      <td>-1.692788</td>\n",
       "      <td>-0.183554</td>\n",
       "      <td>0.162215</td>\n",
       "      <td>1.083275</td>\n",
       "      <td>-0.641591</td>\n",
       "      <td>0.131270</td>\n",
       "      <td>8</td>\n",
       "    </tr>\n",
       "    <tr>\n",
       "      <th>268262</th>\n",
       "      <td>-0.481027</td>\n",
       "      <td>-1.251582</td>\n",
       "      <td>-1.313392</td>\n",
       "      <td>-0.338683</td>\n",
       "      <td>0.052225</td>\n",
       "      <td>-0.440956</td>\n",
       "      <td>-1.571416</td>\n",
       "      <td>-1.964007</td>\n",
       "      <td>-1.209114</td>\n",
       "      <td>-1.314929</td>\n",
       "      <td>0.841453</td>\n",
       "      <td>0.739273</td>\n",
       "      <td>0.830900</td>\n",
       "      <td>1.197132</td>\n",
       "      <td>2.518991</td>\n",
       "      <td>-1.657973</td>\n",
       "      <td>0.321016</td>\n",
       "      <td>0.688754</td>\n",
       "      <td>0.159946</td>\n",
       "      <td>12</td>\n",
       "    </tr>\n",
       "    <tr>\n",
       "      <th>268263</th>\n",
       "      <td>0.908185</td>\n",
       "      <td>-0.811363</td>\n",
       "      <td>-0.010022</td>\n",
       "      <td>-0.338683</td>\n",
       "      <td>0.052225</td>\n",
       "      <td>-0.440956</td>\n",
       "      <td>0.785036</td>\n",
       "      <td>-1.132837</td>\n",
       "      <td>0.310007</td>\n",
       "      <td>-1.314929</td>\n",
       "      <td>-1.188421</td>\n",
       "      <td>0.739273</td>\n",
       "      <td>-1.203515</td>\n",
       "      <td>0.474652</td>\n",
       "      <td>0.470215</td>\n",
       "      <td>1.375674</td>\n",
       "      <td>-0.949416</td>\n",
       "      <td>1.474563</td>\n",
       "      <td>0.078608</td>\n",
       "      <td>10</td>\n",
       "    </tr>\n",
       "    <tr>\n",
       "      <th>268264</th>\n",
       "      <td>-0.451469</td>\n",
       "      <td>-1.076609</td>\n",
       "      <td>-1.313392</td>\n",
       "      <td>-0.338683</td>\n",
       "      <td>0.052225</td>\n",
       "      <td>-0.440956</td>\n",
       "      <td>0.785036</td>\n",
       "      <td>-1.014098</td>\n",
       "      <td>-1.209114</td>\n",
       "      <td>-1.314929</td>\n",
       "      <td>-1.188421</td>\n",
       "      <td>0.739273</td>\n",
       "      <td>0.830900</td>\n",
       "      <td>0.113412</td>\n",
       "      <td>0.657788</td>\n",
       "      <td>-0.444514</td>\n",
       "      <td>-0.949416</td>\n",
       "      <td>0.483997</td>\n",
       "      <td>0.089898</td>\n",
       "      <td>9</td>\n",
       "    </tr>\n",
       "    <tr>\n",
       "      <th>268265</th>\n",
       "      <td>0.937743</td>\n",
       "      <td>-0.908880</td>\n",
       "      <td>-0.010022</td>\n",
       "      <td>-0.338683</td>\n",
       "      <td>0.052225</td>\n",
       "      <td>-0.440956</td>\n",
       "      <td>0.785036</td>\n",
       "      <td>-1.607791</td>\n",
       "      <td>0.310007</td>\n",
       "      <td>-0.258657</td>\n",
       "      <td>-1.188421</td>\n",
       "      <td>0.739273</td>\n",
       "      <td>0.830900</td>\n",
       "      <td>-2.054028</td>\n",
       "      <td>2.297417</td>\n",
       "      <td>0.768944</td>\n",
       "      <td>-1.076459</td>\n",
       "      <td>2.529433</td>\n",
       "      <td>0.241996</td>\n",
       "      <td>11</td>\n",
       "    </tr>\n",
       "  </tbody>\n",
       "</table>\n",
       "<p>268266 rows × 20 columns</p>\n",
       "</div>"
      ],
      "text/plain": [
       "        followers    square  livingRoom  drawingRoom   kitchen  bathRoom  \\\n",
       "0       -0.421912 -0.166916   -1.313392    -0.338683  0.052225 -0.440956   \n",
       "1       -0.392354  1.106654    1.293347     1.572176  0.052225  1.897958   \n",
       "2       -0.067219  1.170736    1.293347     1.572176  0.052225  1.897958   \n",
       "3       -0.362796 -0.765669   -0.010022    -0.338683  0.052225 -0.440956   \n",
       "4       -0.096777 -0.242700   -0.010022    -0.338683  0.052225 -0.440956   \n",
       "...           ...       ...         ...          ...       ...       ...   \n",
       "268261  -0.185450 -0.862350   -1.313392    -0.338683  0.052225 -0.440956   \n",
       "268262  -0.481027 -1.251582   -1.313392    -0.338683  0.052225 -0.440956   \n",
       "268263   0.908185 -0.811363   -0.010022    -0.338683  0.052225 -0.440956   \n",
       "268264  -0.451469 -1.076609   -1.313392    -0.338683  0.052225 -0.440956   \n",
       "268265   0.937743 -0.908880   -0.010022    -0.338683  0.052225 -0.440956   \n",
       "\n",
       "        buildingType  constructionTime  renovationCondition  \\\n",
       "0          -1.571416          0.054549            -1.209114   \n",
       "1           0.785036          0.766980             1.069568   \n",
       "2          -0.000448          0.766980            -1.209114   \n",
       "3           0.785036         -0.895360             0.310007   \n",
       "4           0.785036          0.885719             1.069568   \n",
       "...              ...               ...                  ...   \n",
       "268261     -0.000448          0.648242             1.069568   \n",
       "268262     -1.571416         -1.964007            -1.209114   \n",
       "268263      0.785036         -1.132837             0.310007   \n",
       "268264      0.785036         -1.014098            -1.209114   \n",
       "268265      0.785036         -1.607791             0.310007   \n",
       "\n",
       "        buildingStructure  elevator  fiveYearsProperty    subway  district  \\\n",
       "0                0.797615  0.841453          -1.352681  0.830900  0.113412   \n",
       "1                0.797615 -1.188421           0.739273  0.830900 -0.247828   \n",
       "2                0.797615  0.841453           0.739273 -1.203515  0.113412   \n",
       "3               -1.314929 -1.188421           0.739273  0.830900  0.835892   \n",
       "4                0.797615  0.841453           0.739273  0.830900  0.474652   \n",
       "...                   ...       ...                ...       ...       ...   \n",
       "268261           0.797615  0.841453           0.739273 -1.203515 -1.692788   \n",
       "268262          -1.314929  0.841453           0.739273  0.830900  1.197132   \n",
       "268263          -1.314929 -1.188421           0.739273 -1.203515  0.474652   \n",
       "268264          -1.314929 -1.188421           0.739273  0.830900  0.113412   \n",
       "268265          -0.258657 -1.188421           0.739273  0.830900 -2.054028   \n",
       "\n",
       "        communityAverage  tradeTimeYear  floorNumber     price  \\\n",
       "0               0.108841      -1.051244     2.353706  0.039759   \n",
       "1              -1.011557       0.162215    -0.949416 -0.913137   \n",
       "2              -0.141311       0.768944     1.718490 -0.226529   \n",
       "3              -0.690854       0.162215    -0.949416 -0.597450   \n",
       "4               0.575416       0.768944     0.575102  1.090296   \n",
       "...                  ...            ...          ...       ...   \n",
       "268261         -0.183554       0.162215     1.083275 -0.641591   \n",
       "268262          2.518991      -1.657973     0.321016  0.688754   \n",
       "268263          0.470215       1.375674    -0.949416  1.474563   \n",
       "268264          0.657788      -0.444514    -0.949416  0.483997   \n",
       "268265          2.297417       0.768944    -1.076459  2.529433   \n",
       "\n",
       "        distanceToCenter  districtLevel  \n",
       "0               0.091180              9  \n",
       "1               0.048354              5  \n",
       "2               0.088598              9  \n",
       "3               0.060895              7  \n",
       "4               0.055900             10  \n",
       "...                  ...            ...  \n",
       "268261          0.131270              8  \n",
       "268262          0.159946             12  \n",
       "268263          0.078608             10  \n",
       "268264          0.089898              9  \n",
       "268265          0.241996             11  \n",
       "\n",
       "[268266 rows x 20 columns]"
      ]
     },
     "execution_count": 14,
     "metadata": {},
     "output_type": "execute_result"
    }
   ],
   "source": [
    "medianPrices = trainDf.groupby('district')['price'].median().sort_values()\n",
    "districtLevel = medianPrices.reset_index().reset_index().rename(columns={'index': 'districtLevel'})\n",
    "trainDf = trainDf.merge(districtLevel[['district', 'districtLevel']], on='district', how='left')\n",
    "testDf = testDf.merge(districtLevel[['district', 'districtLevel']], on='district', how='left')\n",
    "trainDf"
   ]
  },
  {
   "cell_type": "markdown",
   "metadata": {},
   "source": [
    "<span style=\"color:cyan\">According to the previous phase, we understand that there is a relationship between house prices and the district they are in. Therefore, we sorted districts according to the median price and created a new column called `districtLevel`.</span>"
   ]
  },
  {
   "cell_type": "code",
   "execution_count": 15,
   "metadata": {},
   "outputs": [
    {
     "data": {
      "application/vnd.plotly.v1+json": {
       "config": {
        "plotlyServerURL": "https://plot.ly"
       },
       "data": [
        {
         "colorscale": [
          [
           0,
           "#440154"
          ],
          [
           0.1111111111111111,
           "#482878"
          ],
          [
           0.2222222222222222,
           "#3e4989"
          ],
          [
           0.3333333333333333,
           "#31688e"
          ],
          [
           0.4444444444444444,
           "#26828e"
          ],
          [
           0.5555555555555556,
           "#1f9e89"
          ],
          [
           0.6666666666666666,
           "#35b779"
          ],
          [
           0.7777777777777778,
           "#6ece58"
          ],
          [
           0.8888888888888888,
           "#b5de2b"
          ],
          [
           1,
           "#fde725"
          ]
         ],
         "text": [
          [
           1,
           -0.04808346693206001,
           -0.007099192777431068,
           -0.05256015756765095,
           0.009940473540795207,
           -0.033952217347563644,
           0.012995616753726517,
           -0.01391144002259158,
           0.239743077280207,
           -0.02237493250739495,
           -0.02180474324881377,
           0.05048724796608319,
           0.011880655761095567,
           -0.03575385519779186,
           -0.031246020155131574,
           0.395657834063571,
           -0.017305089074085823,
           0.27862760901176703,
           0.012017599455940569,
           0.03236902695502368
          ],
          [
           -0.04808346693206001,
           1,
           0.7261775432548886,
           0.6148313602373119,
           0.07685929425721748,
           0.7290058886939248,
           -0.010645853683967123,
           0.3409218376539201,
           0.03545418813645378,
           0.14303632352534365,
           0.17582819248734022,
           -0.01237615853458705,
           -0.08693303587686935,
           0.0066116540803487535,
           -0.13062169059896625,
           0.012009526374286327,
           0.14673623202885136,
           -0.14855516044441483,
           -0.17641150373143852,
           -0.14557689651892597
          ],
          [
           -0.007099192777431068,
           0.7261775432548886,
           1,
           0.48858188176179473,
           0.09270843090579581,
           0.5489471221587187,
           0.12630212589956133,
           -0.0007859792316890735,
           0.009848190362078851,
           -0.07314077688236253,
           -0.07739874984009174,
           0.05141768204074973,
           -0.060772795269108046,
           0.014649335613980399,
           -0.0634441177405606,
           0.013973127171913877,
           -0.0961446268589685,
           -0.07485578187430143,
           -0.10271646517581315,
           -0.09462911221500506
          ],
          [
           -0.05256015756765095,
           0.6148313602373119,
           0.48858188176179473,
           1,
           0.12052198044034741,
           0.5157611191646071,
           0.08333657646987941,
           0.1926553745883354,
           -0.007990303671088331,
           0.042352294146773224,
           0.04299352907101613,
           0.012433845968704714,
           -0.08971360388131966,
           0.018401124728666642,
           -0.08086972554003699,
           -0.06057686277019211,
           0.018966240882523966,
           -0.11403762684362664,
           -0.15467240553120423,
           -0.12547180427648455
          ],
          [
           0.009940473540795207,
           0.07685929425721748,
           0.09270843090579581,
           0.12052198044034741,
           1,
           0.10249322388485699,
           0.017227637969538665,
           -0.023210416963761294,
           -0.009734075217542295,
           -0.010088270691949222,
           -0.009919440561050518,
           0.044599729857952235,
           0.015392719064817846,
           -0.04608890705894738,
           0.0351834675583813,
           0.025233058786739922,
           -0.014020224024508974,
           0.038017846406792836,
           0.010913312832409063,
           0.037802707680821536
          ],
          [
           -0.033952217347563644,
           0.7290058886939248,
           0.5489471221587187,
           0.5157611191646071,
           0.10249322388485699,
           1,
           0.032599270781241904,
           0.23498672261805992,
           0.023705977380160812,
           0.10203165775723531,
           0.11897601621952217,
           -0.027830075292132828,
           -0.056322058990812364,
           0.006583106819652376,
           -0.05077758633102027,
           0.005597585650445091,
           0.06122816061872882,
           -0.06992864925534717,
           -0.110798046459872,
           -0.08746706731434957
          ],
          [
           0.012995616753726517,
           -0.010645853683967123,
           0.12630212589956133,
           0.08333657646987941,
           0.017227637969538665,
           0.032599270781241904,
           1,
           -0.13038734935486124,
           -0.01123911438618232,
           -0.5472903292245246,
           -0.6287087179269694,
           -0.00030035726724809996,
           -0.1562654165338354,
           0.04858785342308161,
           -0.14252102128640945,
           0.009713965430663444,
           -0.7338752402043555,
           -0.08197363887148656,
           -0.17927419636855843,
           -0.2280524590539359
          ],
          [
           -0.01391144002259158,
           0.3409218376539201,
           -0.0007859792316890735,
           0.1926553745883354,
           -0.023210416963761294,
           0.23498672261805992,
           -0.13038734935486124,
           1,
           0.07124843182650749,
           0.41544343407304585,
           0.4404308001885285,
           -0.22890893308948576,
           -0.159631583712032,
           -0.051962210411228324,
           -0.24995057442490137,
           0.05998046775009074,
           0.38010067761810395,
           -0.168213425701111,
           -0.2895268700612498,
           -0.27557754643925
          ],
          [
           0.239743077280207,
           0.03545418813645378,
           0.009848190362078851,
           -0.007990303671088331,
           -0.009734075217542295,
           0.023705977380160812,
           -0.01123911438618232,
           0.07124843182650749,
           1,
           0.04880489135663654,
           0.052344649042141526,
           0.12327821152801591,
           -0.00041494078782962075,
           -0.009389147021970568,
           -0.005394634697364604,
           0.6535566926237303,
           0.044345561833518926,
           0.32561700239691493,
           -0.01565999968617654,
           0.00034345009076944315
          ],
          [
           -0.02237493250739495,
           0.14303632352534365,
           -0.07314077688236253,
           0.042352294146773224,
           -0.010088270691949222,
           0.10203165775723531,
           -0.5472903292245246,
           0.41544343407304585,
           0.04880489135663654,
           1,
           0.8269358148477896,
           -0.12167696226644706,
           0.10128418441968323,
           -0.08263938755260906,
           0.15653521355805688,
           0.024001030716546676,
           0.6833105087136301,
           0.10998663458112842,
           0.11116880433998691,
           0.16486831419065404
          ],
          [
           -0.02180474324881377,
           0.17582819248734022,
           -0.07739874984009174,
           0.04299352907101613,
           -0.009919440561050518,
           0.11897601621952217,
           -0.6287087179269694,
           0.4404308001885285,
           0.052344649042141526,
           0.8269358148477896,
           1,
           -0.1235260569799925,
           0.11235997053007464,
           -0.05953437506430855,
           0.14492463205099634,
           0.019400355877826674,
           0.7752239289835835,
           0.09641046569324149,
           0.08370470943614204,
           0.14433126135913482
          ],
          [
           0.05048724796608319,
           -0.01237615853458705,
           0.05141768204074973,
           0.012433845968704714,
           0.044599729857952235,
           -0.027830075292132828,
           -0.00030035726724809996,
           -0.22890893308948576,
           0.12327821152801591,
           -0.12167696226644706,
           -0.1235260569799925,
           1,
           0.06645295118318272,
           0.0058393210831461885,
           0.07945035564652815,
           0.02648693155634653,
           -0.10667106935452832,
           0.03040588988165427,
           0.10095132310382242,
           0.10588321271415535
          ],
          [
           0.011880655761095567,
           -0.08693303587686935,
           -0.060772795269108046,
           -0.08971360388131966,
           0.015392719064817846,
           -0.056322058990812364,
           -0.1562654165338354,
           -0.159631583712032,
           -0.00041494078782962075,
           0.10128418441968323,
           0.11235997053007464,
           0.06645295118318272,
           1,
           -0.12067236339634851,
           0.3377627830142689,
           -0.025122694309696297,
           0.12719054488542275,
           0.22993951824455386,
           0.31170793659598756,
           0.28547107772995145
          ],
          [
           -0.03575385519779186,
           0.0066116540803487535,
           0.014649335613980399,
           0.018401124728666642,
           -0.04608890705894738,
           0.006583106819652376,
           0.04858785342308161,
           -0.051962210411228324,
           -0.009389147021970568,
           -0.08263938755260906,
           -0.05953437506430855,
           0.0058393210831461885,
           -0.12067236339634851,
           1,
           0.012354916225414755,
           -0.044981695199473135,
           -0.06176870921089462,
           -0.02769793339158744,
           -0.29083443119459873,
           -0.1974125879481739
          ],
          [
           -0.031246020155131574,
           -0.13062169059896625,
           -0.0634441177405606,
           -0.08086972554003699,
           0.0351834675583813,
           -0.05077758633102027,
           -0.14252102128640945,
           -0.24995057442490137,
           -0.005394634697364604,
           0.15653521355805688,
           0.14492463205099634,
           0.07945035564652815,
           0.3377627830142689,
           0.012354916225414755,
           1,
           -0.0663914917594041,
           0.11160823258295496,
           0.6232215221919921,
           0.5981140931111103,
           0.7148987706141189
          ],
          [
           0.395657834063571,
           0.012009526374286327,
           0.013973127171913877,
           -0.06057686277019211,
           0.025233058786739922,
           0.005597585650445091,
           0.009713965430663444,
           0.05998046775009074,
           0.6535566926237303,
           0.024001030716546676,
           0.019400355877826674,
           0.02648693155634653,
           -0.025122694309696297,
           -0.044981695199473135,
           -0.0663914917594041,
           1,
           0.028796369496001773,
           0.5511234430968123,
           -0.029171288739345234,
           -0.022748365720727103
          ],
          [
           -0.017305089074085823,
           0.14673623202885136,
           -0.0961446268589685,
           0.018966240882523966,
           -0.014020224024508974,
           0.06122816061872882,
           -0.7338752402043555,
           0.38010067761810395,
           0.044345561833518926,
           0.6833105087136301,
           0.7752239289835835,
           -0.10667106935452832,
           0.12719054488542275,
           -0.06176870921089462,
           0.11160823258295496,
           0.028796369496001773,
           1,
           0.07649270685003147,
           0.06688363202258907,
           0.16427992544693298
          ],
          [
           0.27862760901176703,
           -0.14855516044441483,
           -0.07485578187430143,
           -0.11403762684362664,
           0.038017846406792836,
           -0.06992864925534717,
           -0.08197363887148656,
           -0.168213425701111,
           0.32561700239691493,
           0.10998663458112842,
           0.09641046569324149,
           0.03040588988165427,
           0.22993951824455386,
           -0.02769793339158744,
           0.6232215221919921,
           0.5511234430968123,
           0.07649270685003147,
           1,
           0.38370345091851116,
           0.48892800978472895
          ],
          [
           0.012017599455940569,
           -0.17641150373143852,
           -0.10271646517581315,
           -0.15467240553120423,
           0.010913312832409063,
           -0.110798046459872,
           -0.17927419636855843,
           -0.2895268700612498,
           -0.01565999968617654,
           0.11116880433998691,
           0.08370470943614204,
           0.10095132310382242,
           0.31170793659598756,
           -0.29083443119459873,
           0.5981140931111103,
           -0.029171288739345234,
           0.06688363202258907,
           0.38370345091851116,
           1,
           0.5914625022398342
          ],
          [
           0.03236902695502368,
           -0.14557689651892597,
           -0.09462911221500506,
           -0.12547180427648455,
           0.037802707680821536,
           -0.08746706731434957,
           -0.2280524590539359,
           -0.27557754643925,
           0.00034345009076944315,
           0.16486831419065404,
           0.14433126135913482,
           0.10588321271415535,
           0.28547107772995145,
           -0.1974125879481739,
           0.7148987706141189,
           -0.022748365720727103,
           0.16427992544693298,
           0.48892800978472895,
           0.5914625022398342,
           1
          ]
         ],
         "textfont": {
          "size": 10
         },
         "texttemplate": "%{text:.2f}",
         "type": "heatmap",
         "x": [
          "followers",
          "square",
          "livingRoom",
          "drawingRoom",
          "kitchen",
          "bathRoom",
          "buildingType",
          "constructionTime",
          "renovationCondition",
          "buildingStructure",
          "elevator",
          "fiveYearsProperty",
          "subway",
          "district",
          "communityAverage",
          "tradeTimeYear",
          "floorNumber",
          "price",
          "distanceToCenter",
          "districtLevel"
         ],
         "y": [
          "followers",
          "square",
          "livingRoom",
          "drawingRoom",
          "kitchen",
          "bathRoom",
          "buildingType",
          "constructionTime",
          "renovationCondition",
          "buildingStructure",
          "elevator",
          "fiveYearsProperty",
          "subway",
          "district",
          "communityAverage",
          "tradeTimeYear",
          "floorNumber",
          "price",
          "distanceToCenter",
          "districtLevel"
         ],
         "z": [
          [
           1,
           -0.04808346693206001,
           -0.007099192777431068,
           -0.05256015756765095,
           0.009940473540795207,
           -0.033952217347563644,
           0.012995616753726517,
           -0.01391144002259158,
           0.239743077280207,
           -0.02237493250739495,
           -0.02180474324881377,
           0.05048724796608319,
           0.011880655761095567,
           -0.03575385519779186,
           -0.031246020155131574,
           0.395657834063571,
           -0.017305089074085823,
           0.27862760901176703,
           0.012017599455940569,
           0.03236902695502368
          ],
          [
           -0.04808346693206001,
           1,
           0.7261775432548886,
           0.6148313602373119,
           0.07685929425721748,
           0.7290058886939248,
           -0.010645853683967123,
           0.3409218376539201,
           0.03545418813645378,
           0.14303632352534365,
           0.17582819248734022,
           -0.01237615853458705,
           -0.08693303587686935,
           0.0066116540803487535,
           -0.13062169059896625,
           0.012009526374286327,
           0.14673623202885136,
           -0.14855516044441483,
           -0.17641150373143852,
           -0.14557689651892597
          ],
          [
           -0.007099192777431068,
           0.7261775432548886,
           1,
           0.48858188176179473,
           0.09270843090579581,
           0.5489471221587187,
           0.12630212589956133,
           -0.0007859792316890735,
           0.009848190362078851,
           -0.07314077688236253,
           -0.07739874984009174,
           0.05141768204074973,
           -0.060772795269108046,
           0.014649335613980399,
           -0.0634441177405606,
           0.013973127171913877,
           -0.0961446268589685,
           -0.07485578187430143,
           -0.10271646517581315,
           -0.09462911221500506
          ],
          [
           -0.05256015756765095,
           0.6148313602373119,
           0.48858188176179473,
           1,
           0.12052198044034741,
           0.5157611191646071,
           0.08333657646987941,
           0.1926553745883354,
           -0.007990303671088331,
           0.042352294146773224,
           0.04299352907101613,
           0.012433845968704714,
           -0.08971360388131966,
           0.018401124728666642,
           -0.08086972554003699,
           -0.06057686277019211,
           0.018966240882523966,
           -0.11403762684362664,
           -0.15467240553120423,
           -0.12547180427648455
          ],
          [
           0.009940473540795207,
           0.07685929425721748,
           0.09270843090579581,
           0.12052198044034741,
           1,
           0.10249322388485699,
           0.017227637969538665,
           -0.023210416963761294,
           -0.009734075217542295,
           -0.010088270691949222,
           -0.009919440561050518,
           0.044599729857952235,
           0.015392719064817846,
           -0.04608890705894738,
           0.0351834675583813,
           0.025233058786739922,
           -0.014020224024508974,
           0.038017846406792836,
           0.010913312832409063,
           0.037802707680821536
          ],
          [
           -0.033952217347563644,
           0.7290058886939248,
           0.5489471221587187,
           0.5157611191646071,
           0.10249322388485699,
           1,
           0.032599270781241904,
           0.23498672261805992,
           0.023705977380160812,
           0.10203165775723531,
           0.11897601621952217,
           -0.027830075292132828,
           -0.056322058990812364,
           0.006583106819652376,
           -0.05077758633102027,
           0.005597585650445091,
           0.06122816061872882,
           -0.06992864925534717,
           -0.110798046459872,
           -0.08746706731434957
          ],
          [
           0.012995616753726517,
           -0.010645853683967123,
           0.12630212589956133,
           0.08333657646987941,
           0.017227637969538665,
           0.032599270781241904,
           1,
           -0.13038734935486124,
           -0.01123911438618232,
           -0.5472903292245246,
           -0.6287087179269694,
           -0.00030035726724809996,
           -0.1562654165338354,
           0.04858785342308161,
           -0.14252102128640945,
           0.009713965430663444,
           -0.7338752402043555,
           -0.08197363887148656,
           -0.17927419636855843,
           -0.2280524590539359
          ],
          [
           -0.01391144002259158,
           0.3409218376539201,
           -0.0007859792316890735,
           0.1926553745883354,
           -0.023210416963761294,
           0.23498672261805992,
           -0.13038734935486124,
           1,
           0.07124843182650749,
           0.41544343407304585,
           0.4404308001885285,
           -0.22890893308948576,
           -0.159631583712032,
           -0.051962210411228324,
           -0.24995057442490137,
           0.05998046775009074,
           0.38010067761810395,
           -0.168213425701111,
           -0.2895268700612498,
           -0.27557754643925
          ],
          [
           0.239743077280207,
           0.03545418813645378,
           0.009848190362078851,
           -0.007990303671088331,
           -0.009734075217542295,
           0.023705977380160812,
           -0.01123911438618232,
           0.07124843182650749,
           1,
           0.04880489135663654,
           0.052344649042141526,
           0.12327821152801591,
           -0.00041494078782962075,
           -0.009389147021970568,
           -0.005394634697364604,
           0.6535566926237303,
           0.044345561833518926,
           0.32561700239691493,
           -0.01565999968617654,
           0.00034345009076944315
          ],
          [
           -0.02237493250739495,
           0.14303632352534365,
           -0.07314077688236253,
           0.042352294146773224,
           -0.010088270691949222,
           0.10203165775723531,
           -0.5472903292245246,
           0.41544343407304585,
           0.04880489135663654,
           1,
           0.8269358148477896,
           -0.12167696226644706,
           0.10128418441968323,
           -0.08263938755260906,
           0.15653521355805688,
           0.024001030716546676,
           0.6833105087136301,
           0.10998663458112842,
           0.11116880433998691,
           0.16486831419065404
          ],
          [
           -0.02180474324881377,
           0.17582819248734022,
           -0.07739874984009174,
           0.04299352907101613,
           -0.009919440561050518,
           0.11897601621952217,
           -0.6287087179269694,
           0.4404308001885285,
           0.052344649042141526,
           0.8269358148477896,
           1,
           -0.1235260569799925,
           0.11235997053007464,
           -0.05953437506430855,
           0.14492463205099634,
           0.019400355877826674,
           0.7752239289835835,
           0.09641046569324149,
           0.08370470943614204,
           0.14433126135913482
          ],
          [
           0.05048724796608319,
           -0.01237615853458705,
           0.05141768204074973,
           0.012433845968704714,
           0.044599729857952235,
           -0.027830075292132828,
           -0.00030035726724809996,
           -0.22890893308948576,
           0.12327821152801591,
           -0.12167696226644706,
           -0.1235260569799925,
           1,
           0.06645295118318272,
           0.0058393210831461885,
           0.07945035564652815,
           0.02648693155634653,
           -0.10667106935452832,
           0.03040588988165427,
           0.10095132310382242,
           0.10588321271415535
          ],
          [
           0.011880655761095567,
           -0.08693303587686935,
           -0.060772795269108046,
           -0.08971360388131966,
           0.015392719064817846,
           -0.056322058990812364,
           -0.1562654165338354,
           -0.159631583712032,
           -0.00041494078782962075,
           0.10128418441968323,
           0.11235997053007464,
           0.06645295118318272,
           1,
           -0.12067236339634851,
           0.3377627830142689,
           -0.025122694309696297,
           0.12719054488542275,
           0.22993951824455386,
           0.31170793659598756,
           0.28547107772995145
          ],
          [
           -0.03575385519779186,
           0.0066116540803487535,
           0.014649335613980399,
           0.018401124728666642,
           -0.04608890705894738,
           0.006583106819652376,
           0.04858785342308161,
           -0.051962210411228324,
           -0.009389147021970568,
           -0.08263938755260906,
           -0.05953437506430855,
           0.0058393210831461885,
           -0.12067236339634851,
           1,
           0.012354916225414755,
           -0.044981695199473135,
           -0.06176870921089462,
           -0.02769793339158744,
           -0.29083443119459873,
           -0.1974125879481739
          ],
          [
           -0.031246020155131574,
           -0.13062169059896625,
           -0.0634441177405606,
           -0.08086972554003699,
           0.0351834675583813,
           -0.05077758633102027,
           -0.14252102128640945,
           -0.24995057442490137,
           -0.005394634697364604,
           0.15653521355805688,
           0.14492463205099634,
           0.07945035564652815,
           0.3377627830142689,
           0.012354916225414755,
           1,
           -0.0663914917594041,
           0.11160823258295496,
           0.6232215221919921,
           0.5981140931111103,
           0.7148987706141189
          ],
          [
           0.395657834063571,
           0.012009526374286327,
           0.013973127171913877,
           -0.06057686277019211,
           0.025233058786739922,
           0.005597585650445091,
           0.009713965430663444,
           0.05998046775009074,
           0.6535566926237303,
           0.024001030716546676,
           0.019400355877826674,
           0.02648693155634653,
           -0.025122694309696297,
           -0.044981695199473135,
           -0.0663914917594041,
           1,
           0.028796369496001773,
           0.5511234430968123,
           -0.029171288739345234,
           -0.022748365720727103
          ],
          [
           -0.017305089074085823,
           0.14673623202885136,
           -0.0961446268589685,
           0.018966240882523966,
           -0.014020224024508974,
           0.06122816061872882,
           -0.7338752402043555,
           0.38010067761810395,
           0.044345561833518926,
           0.6833105087136301,
           0.7752239289835835,
           -0.10667106935452832,
           0.12719054488542275,
           -0.06176870921089462,
           0.11160823258295496,
           0.028796369496001773,
           1,
           0.07649270685003147,
           0.06688363202258907,
           0.16427992544693298
          ],
          [
           0.27862760901176703,
           -0.14855516044441483,
           -0.07485578187430143,
           -0.11403762684362664,
           0.038017846406792836,
           -0.06992864925534717,
           -0.08197363887148656,
           -0.168213425701111,
           0.32561700239691493,
           0.10998663458112842,
           0.09641046569324149,
           0.03040588988165427,
           0.22993951824455386,
           -0.02769793339158744,
           0.6232215221919921,
           0.5511234430968123,
           0.07649270685003147,
           1,
           0.38370345091851116,
           0.48892800978472895
          ],
          [
           0.012017599455940569,
           -0.17641150373143852,
           -0.10271646517581315,
           -0.15467240553120423,
           0.010913312832409063,
           -0.110798046459872,
           -0.17927419636855843,
           -0.2895268700612498,
           -0.01565999968617654,
           0.11116880433998691,
           0.08370470943614204,
           0.10095132310382242,
           0.31170793659598756,
           -0.29083443119459873,
           0.5981140931111103,
           -0.029171288739345234,
           0.06688363202258907,
           0.38370345091851116,
           1,
           0.5914625022398342
          ],
          [
           0.03236902695502368,
           -0.14557689651892597,
           -0.09462911221500506,
           -0.12547180427648455,
           0.037802707680821536,
           -0.08746706731434957,
           -0.2280524590539359,
           -0.27557754643925,
           0.00034345009076944315,
           0.16486831419065404,
           0.14433126135913482,
           0.10588321271415535,
           0.28547107772995145,
           -0.1974125879481739,
           0.7148987706141189,
           -0.022748365720727103,
           0.16427992544693298,
           0.48892800978472895,
           0.5914625022398342,
           1
          ]
         ]
        }
       ],
       "layout": {
        "autosize": true,
        "height": 1000,
        "margin": {
         "b": 100,
         "l": 100,
         "r": 100,
         "t": 100
        },
        "shapes": [
         {
          "line": {
           "color": "red",
           "width": 3
          },
          "type": "rect",
          "x0": 16.5,
          "x1": 17.5,
          "y0": -0.5,
          "y1": 19.5
         },
         {
          "line": {
           "color": "red",
           "width": 3
          },
          "type": "rect",
          "x0": -0.5,
          "x1": 19.5,
          "y0": 16.5,
          "y1": 17.5
         }
        ],
        "template": {
         "data": {
          "bar": [
           {
            "error_x": {
             "color": "#2a3f5f"
            },
            "error_y": {
             "color": "#2a3f5f"
            },
            "marker": {
             "line": {
              "color": "#E5ECF6",
              "width": 0.5
             },
             "pattern": {
              "fillmode": "overlay",
              "size": 10,
              "solidity": 0.2
             }
            },
            "type": "bar"
           }
          ],
          "barpolar": [
           {
            "marker": {
             "line": {
              "color": "#E5ECF6",
              "width": 0.5
             },
             "pattern": {
              "fillmode": "overlay",
              "size": 10,
              "solidity": 0.2
             }
            },
            "type": "barpolar"
           }
          ],
          "carpet": [
           {
            "aaxis": {
             "endlinecolor": "#2a3f5f",
             "gridcolor": "white",
             "linecolor": "white",
             "minorgridcolor": "white",
             "startlinecolor": "#2a3f5f"
            },
            "baxis": {
             "endlinecolor": "#2a3f5f",
             "gridcolor": "white",
             "linecolor": "white",
             "minorgridcolor": "white",
             "startlinecolor": "#2a3f5f"
            },
            "type": "carpet"
           }
          ],
          "choropleth": [
           {
            "colorbar": {
             "outlinewidth": 0,
             "ticks": ""
            },
            "type": "choropleth"
           }
          ],
          "contour": [
           {
            "colorbar": {
             "outlinewidth": 0,
             "ticks": ""
            },
            "colorscale": [
             [
              0,
              "#0d0887"
             ],
             [
              0.1111111111111111,
              "#46039f"
             ],
             [
              0.2222222222222222,
              "#7201a8"
             ],
             [
              0.3333333333333333,
              "#9c179e"
             ],
             [
              0.4444444444444444,
              "#bd3786"
             ],
             [
              0.5555555555555556,
              "#d8576b"
             ],
             [
              0.6666666666666666,
              "#ed7953"
             ],
             [
              0.7777777777777778,
              "#fb9f3a"
             ],
             [
              0.8888888888888888,
              "#fdca26"
             ],
             [
              1,
              "#f0f921"
             ]
            ],
            "type": "contour"
           }
          ],
          "contourcarpet": [
           {
            "colorbar": {
             "outlinewidth": 0,
             "ticks": ""
            },
            "type": "contourcarpet"
           }
          ],
          "heatmap": [
           {
            "colorbar": {
             "outlinewidth": 0,
             "ticks": ""
            },
            "colorscale": [
             [
              0,
              "#0d0887"
             ],
             [
              0.1111111111111111,
              "#46039f"
             ],
             [
              0.2222222222222222,
              "#7201a8"
             ],
             [
              0.3333333333333333,
              "#9c179e"
             ],
             [
              0.4444444444444444,
              "#bd3786"
             ],
             [
              0.5555555555555556,
              "#d8576b"
             ],
             [
              0.6666666666666666,
              "#ed7953"
             ],
             [
              0.7777777777777778,
              "#fb9f3a"
             ],
             [
              0.8888888888888888,
              "#fdca26"
             ],
             [
              1,
              "#f0f921"
             ]
            ],
            "type": "heatmap"
           }
          ],
          "heatmapgl": [
           {
            "colorbar": {
             "outlinewidth": 0,
             "ticks": ""
            },
            "colorscale": [
             [
              0,
              "#0d0887"
             ],
             [
              0.1111111111111111,
              "#46039f"
             ],
             [
              0.2222222222222222,
              "#7201a8"
             ],
             [
              0.3333333333333333,
              "#9c179e"
             ],
             [
              0.4444444444444444,
              "#bd3786"
             ],
             [
              0.5555555555555556,
              "#d8576b"
             ],
             [
              0.6666666666666666,
              "#ed7953"
             ],
             [
              0.7777777777777778,
              "#fb9f3a"
             ],
             [
              0.8888888888888888,
              "#fdca26"
             ],
             [
              1,
              "#f0f921"
             ]
            ],
            "type": "heatmapgl"
           }
          ],
          "histogram": [
           {
            "marker": {
             "pattern": {
              "fillmode": "overlay",
              "size": 10,
              "solidity": 0.2
             }
            },
            "type": "histogram"
           }
          ],
          "histogram2d": [
           {
            "colorbar": {
             "outlinewidth": 0,
             "ticks": ""
            },
            "colorscale": [
             [
              0,
              "#0d0887"
             ],
             [
              0.1111111111111111,
              "#46039f"
             ],
             [
              0.2222222222222222,
              "#7201a8"
             ],
             [
              0.3333333333333333,
              "#9c179e"
             ],
             [
              0.4444444444444444,
              "#bd3786"
             ],
             [
              0.5555555555555556,
              "#d8576b"
             ],
             [
              0.6666666666666666,
              "#ed7953"
             ],
             [
              0.7777777777777778,
              "#fb9f3a"
             ],
             [
              0.8888888888888888,
              "#fdca26"
             ],
             [
              1,
              "#f0f921"
             ]
            ],
            "type": "histogram2d"
           }
          ],
          "histogram2dcontour": [
           {
            "colorbar": {
             "outlinewidth": 0,
             "ticks": ""
            },
            "colorscale": [
             [
              0,
              "#0d0887"
             ],
             [
              0.1111111111111111,
              "#46039f"
             ],
             [
              0.2222222222222222,
              "#7201a8"
             ],
             [
              0.3333333333333333,
              "#9c179e"
             ],
             [
              0.4444444444444444,
              "#bd3786"
             ],
             [
              0.5555555555555556,
              "#d8576b"
             ],
             [
              0.6666666666666666,
              "#ed7953"
             ],
             [
              0.7777777777777778,
              "#fb9f3a"
             ],
             [
              0.8888888888888888,
              "#fdca26"
             ],
             [
              1,
              "#f0f921"
             ]
            ],
            "type": "histogram2dcontour"
           }
          ],
          "mesh3d": [
           {
            "colorbar": {
             "outlinewidth": 0,
             "ticks": ""
            },
            "type": "mesh3d"
           }
          ],
          "parcoords": [
           {
            "line": {
             "colorbar": {
              "outlinewidth": 0,
              "ticks": ""
             }
            },
            "type": "parcoords"
           }
          ],
          "pie": [
           {
            "automargin": true,
            "type": "pie"
           }
          ],
          "scatter": [
           {
            "fillpattern": {
             "fillmode": "overlay",
             "size": 10,
             "solidity": 0.2
            },
            "type": "scatter"
           }
          ],
          "scatter3d": [
           {
            "line": {
             "colorbar": {
              "outlinewidth": 0,
              "ticks": ""
             }
            },
            "marker": {
             "colorbar": {
              "outlinewidth": 0,
              "ticks": ""
             }
            },
            "type": "scatter3d"
           }
          ],
          "scattercarpet": [
           {
            "marker": {
             "colorbar": {
              "outlinewidth": 0,
              "ticks": ""
             }
            },
            "type": "scattercarpet"
           }
          ],
          "scattergeo": [
           {
            "marker": {
             "colorbar": {
              "outlinewidth": 0,
              "ticks": ""
             }
            },
            "type": "scattergeo"
           }
          ],
          "scattergl": [
           {
            "marker": {
             "colorbar": {
              "outlinewidth": 0,
              "ticks": ""
             }
            },
            "type": "scattergl"
           }
          ],
          "scattermapbox": [
           {
            "marker": {
             "colorbar": {
              "outlinewidth": 0,
              "ticks": ""
             }
            },
            "type": "scattermapbox"
           }
          ],
          "scatterpolar": [
           {
            "marker": {
             "colorbar": {
              "outlinewidth": 0,
              "ticks": ""
             }
            },
            "type": "scatterpolar"
           }
          ],
          "scatterpolargl": [
           {
            "marker": {
             "colorbar": {
              "outlinewidth": 0,
              "ticks": ""
             }
            },
            "type": "scatterpolargl"
           }
          ],
          "scatterternary": [
           {
            "marker": {
             "colorbar": {
              "outlinewidth": 0,
              "ticks": ""
             }
            },
            "type": "scatterternary"
           }
          ],
          "surface": [
           {
            "colorbar": {
             "outlinewidth": 0,
             "ticks": ""
            },
            "colorscale": [
             [
              0,
              "#0d0887"
             ],
             [
              0.1111111111111111,
              "#46039f"
             ],
             [
              0.2222222222222222,
              "#7201a8"
             ],
             [
              0.3333333333333333,
              "#9c179e"
             ],
             [
              0.4444444444444444,
              "#bd3786"
             ],
             [
              0.5555555555555556,
              "#d8576b"
             ],
             [
              0.6666666666666666,
              "#ed7953"
             ],
             [
              0.7777777777777778,
              "#fb9f3a"
             ],
             [
              0.8888888888888888,
              "#fdca26"
             ],
             [
              1,
              "#f0f921"
             ]
            ],
            "type": "surface"
           }
          ],
          "table": [
           {
            "cells": {
             "fill": {
              "color": "#EBF0F8"
             },
             "line": {
              "color": "white"
             }
            },
            "header": {
             "fill": {
              "color": "#C8D4E3"
             },
             "line": {
              "color": "white"
             }
            },
            "type": "table"
           }
          ]
         },
         "layout": {
          "annotationdefaults": {
           "arrowcolor": "#2a3f5f",
           "arrowhead": 0,
           "arrowwidth": 1
          },
          "autotypenumbers": "strict",
          "coloraxis": {
           "colorbar": {
            "outlinewidth": 0,
            "ticks": ""
           }
          },
          "colorscale": {
           "diverging": [
            [
             0,
             "#8e0152"
            ],
            [
             0.1,
             "#c51b7d"
            ],
            [
             0.2,
             "#de77ae"
            ],
            [
             0.3,
             "#f1b6da"
            ],
            [
             0.4,
             "#fde0ef"
            ],
            [
             0.5,
             "#f7f7f7"
            ],
            [
             0.6,
             "#e6f5d0"
            ],
            [
             0.7,
             "#b8e186"
            ],
            [
             0.8,
             "#7fbc41"
            ],
            [
             0.9,
             "#4d9221"
            ],
            [
             1,
             "#276419"
            ]
           ],
           "sequential": [
            [
             0,
             "#0d0887"
            ],
            [
             0.1111111111111111,
             "#46039f"
            ],
            [
             0.2222222222222222,
             "#7201a8"
            ],
            [
             0.3333333333333333,
             "#9c179e"
            ],
            [
             0.4444444444444444,
             "#bd3786"
            ],
            [
             0.5555555555555556,
             "#d8576b"
            ],
            [
             0.6666666666666666,
             "#ed7953"
            ],
            [
             0.7777777777777778,
             "#fb9f3a"
            ],
            [
             0.8888888888888888,
             "#fdca26"
            ],
            [
             1,
             "#f0f921"
            ]
           ],
           "sequentialminus": [
            [
             0,
             "#0d0887"
            ],
            [
             0.1111111111111111,
             "#46039f"
            ],
            [
             0.2222222222222222,
             "#7201a8"
            ],
            [
             0.3333333333333333,
             "#9c179e"
            ],
            [
             0.4444444444444444,
             "#bd3786"
            ],
            [
             0.5555555555555556,
             "#d8576b"
            ],
            [
             0.6666666666666666,
             "#ed7953"
            ],
            [
             0.7777777777777778,
             "#fb9f3a"
            ],
            [
             0.8888888888888888,
             "#fdca26"
            ],
            [
             1,
             "#f0f921"
            ]
           ]
          },
          "colorway": [
           "#636efa",
           "#EF553B",
           "#00cc96",
           "#ab63fa",
           "#FFA15A",
           "#19d3f3",
           "#FF6692",
           "#B6E880",
           "#FF97FF",
           "#FECB52"
          ],
          "font": {
           "color": "#2a3f5f"
          },
          "geo": {
           "bgcolor": "white",
           "lakecolor": "white",
           "landcolor": "#E5ECF6",
           "showlakes": true,
           "showland": true,
           "subunitcolor": "white"
          },
          "hoverlabel": {
           "align": "left"
          },
          "hovermode": "closest",
          "mapbox": {
           "style": "light"
          },
          "paper_bgcolor": "white",
          "plot_bgcolor": "#E5ECF6",
          "polar": {
           "angularaxis": {
            "gridcolor": "white",
            "linecolor": "white",
            "ticks": ""
           },
           "bgcolor": "#E5ECF6",
           "radialaxis": {
            "gridcolor": "white",
            "linecolor": "white",
            "ticks": ""
           }
          },
          "scene": {
           "xaxis": {
            "backgroundcolor": "#E5ECF6",
            "gridcolor": "white",
            "gridwidth": 2,
            "linecolor": "white",
            "showbackground": true,
            "ticks": "",
            "zerolinecolor": "white"
           },
           "yaxis": {
            "backgroundcolor": "#E5ECF6",
            "gridcolor": "white",
            "gridwidth": 2,
            "linecolor": "white",
            "showbackground": true,
            "ticks": "",
            "zerolinecolor": "white"
           },
           "zaxis": {
            "backgroundcolor": "#E5ECF6",
            "gridcolor": "white",
            "gridwidth": 2,
            "linecolor": "white",
            "showbackground": true,
            "ticks": "",
            "zerolinecolor": "white"
           }
          },
          "shapedefaults": {
           "line": {
            "color": "#2a3f5f"
           }
          },
          "ternary": {
           "aaxis": {
            "gridcolor": "white",
            "linecolor": "white",
            "ticks": ""
           },
           "baxis": {
            "gridcolor": "white",
            "linecolor": "white",
            "ticks": ""
           },
           "bgcolor": "#E5ECF6",
           "caxis": {
            "gridcolor": "white",
            "linecolor": "white",
            "ticks": ""
           }
          },
          "title": {
           "x": 0.05
          },
          "xaxis": {
           "automargin": true,
           "gridcolor": "white",
           "linecolor": "white",
           "ticks": "",
           "title": {
            "standoff": 15
           },
           "zerolinecolor": "white",
           "zerolinewidth": 2
          },
          "yaxis": {
           "automargin": true,
           "gridcolor": "white",
           "linecolor": "white",
           "ticks": "",
           "title": {
            "standoff": 15
           },
           "zerolinecolor": "white",
           "zerolinewidth": 2
          }
         }
        },
        "title": {
         "text": "Correlation Matrix"
        },
        "width": 1000,
        "xaxis": {
         "nticks": 36
        }
       }
      }
     },
     "metadata": {},
     "output_type": "display_data"
    }
   ],
   "source": [
    "corrMatrix = trainDf.corr()\n",
    "fig = go.Figure(data=go.Heatmap(\n",
    "                   z=corrMatrix.values,\n",
    "                   x=corrMatrix.columns,\n",
    "                   y=corrMatrix.index,\n",
    "                   colorscale='Viridis',\n",
    "                   text=corrMatrix.values,\n",
    "                   texttemplate=\"%{text:.2f}\",\n",
    "                   textfont={\"size\":10}))\n",
    "\n",
    "price_column_index = list(corrMatrix.columns).index('price')\n",
    "price_row_index = list(corrMatrix.index).index('price')\n",
    "fig.update_layout(\n",
    "    title='Correlation Matrix',\n",
    "    xaxis_nticks=36,\n",
    "    width=1000,\n",
    "    height=1000,\n",
    "    autosize=True,\n",
    "    margin=dict(l=100, r=100, t=100, b=100),\n",
    "    shapes=[\n",
    "        go.layout.Shape(\n",
    "            type=\"rect\",\n",
    "            x0=price_column_index - 0.5,  \n",
    "            y0=-0.5,                      \n",
    "            x1=price_column_index + 0.5,  \n",
    "            y1=len(corrMatrix.index) - 0.5, \n",
    "            line=dict(\n",
    "                color=\"red\",\n",
    "                width=3\n",
    "            )\n",
    "        ),\n",
    "        go.layout.Shape(\n",
    "            type=\"rect\",\n",
    "            x0=-0.5,                      \n",
    "            y0=price_row_index - 0.5,     \n",
    "            x1=len(corrMatrix.columns) - 0.5,  \n",
    "            y1=price_row_index + 0.5,     \n",
    "            line=dict(\n",
    "                color=\"red\",\n",
    "                width=3\n",
    "            )\n",
    "        )\n",
    "    ]\n",
    ")\n",
    "fig.show()"
   ]
  },
  {
   "cell_type": "code",
   "execution_count": 16,
   "metadata": {},
   "outputs": [
    {
     "name": "stdout",
     "output_type": "stream",
     "text": [
      "R2 Score: 0.7581610983219744\n",
      "RMSE: 0.4874311399401236\n"
     ]
    }
   ],
   "source": [
    "runLinearRegression(trainDf.drop(columns=[targetColumn]), testDf.drop(columns=[targetColumn]), \n",
    "                    trainDf[targetColumn], testDf[targetColumn])"
   ]
  },
  {
   "cell_type": "markdown",
   "metadata": {},
   "source": [
    "<span style=\"color: cyan;\">As you can see, after feature engineering, our R2 score increased slightly.</span>"
   ]
  },
  {
   "cell_type": "markdown",
   "metadata": {},
   "source": [
    "## <span style=\"color: orange;\">**Part 3: Dimensionality Reduction**</span>"
   ]
  },
  {
   "cell_type": "code",
   "execution_count": 17,
   "metadata": {},
   "outputs": [
    {
     "name": "stdout",
     "output_type": "stream",
     "text": [
      "<class 'pandas.core.frame.DataFrame'>\n",
      "RangeIndex: 268266 entries, 0 to 268265\n",
      "Data columns (total 20 columns):\n",
      " #   Column               Non-Null Count   Dtype  \n",
      "---  ------               --------------   -----  \n",
      " 0   followers            268266 non-null  float64\n",
      " 1   square               268266 non-null  float64\n",
      " 2   livingRoom           268266 non-null  float64\n",
      " 3   drawingRoom          268266 non-null  float64\n",
      " 4   kitchen              268266 non-null  float64\n",
      " 5   bathRoom             268266 non-null  float64\n",
      " 6   buildingType         268266 non-null  float64\n",
      " 7   constructionTime     268266 non-null  float64\n",
      " 8   renovationCondition  268266 non-null  float64\n",
      " 9   buildingStructure    268266 non-null  float64\n",
      " 10  elevator             268266 non-null  float64\n",
      " 11  fiveYearsProperty    268266 non-null  float64\n",
      " 12  subway               268266 non-null  float64\n",
      " 13  district             268266 non-null  float64\n",
      " 14  communityAverage     268266 non-null  float64\n",
      " 15  tradeTimeYear        268266 non-null  float64\n",
      " 16  floorNumber          268266 non-null  float64\n",
      " 17  price                268266 non-null  float64\n",
      " 18  distanceToCenter     268266 non-null  float64\n",
      " 19  districtLevel        268266 non-null  int64  \n",
      "dtypes: float64(19), int64(1)\n",
      "memory usage: 40.9 MB\n"
     ]
    }
   ],
   "source": [
    "trainDf.info()"
   ]
  },
  {
   "cell_type": "code",
   "execution_count": 18,
   "metadata": {},
   "outputs": [],
   "source": [
    "numericalColumnsList = ['followers', 'square', 'constructionTime', 'communityAverage', 'tradeTimeYear', 'floorNumber', 'distanceToCenter']"
   ]
  },
  {
   "cell_type": "code",
   "execution_count": 19,
   "metadata": {},
   "outputs": [
    {
     "name": "stdout",
     "output_type": "stream",
     "text": [
      "Cumulative Variance Explained by Principal Components:\n",
      "[0.27454701 0.50881583]\n",
      "Minimum number of dimensions to retain 95% of the variance: 6\n"
     ]
    }
   ],
   "source": [
    "numericFeaturesTrain = trainDf[numericalColumnsList]\n",
    "numericFeaturesTest = testDf[numericalColumnsList]\n",
    "\n",
    "pca = PCA(n_components=2)\n",
    "pca.fit(numericFeaturesTrain)\n",
    "trainDfPca = pca.transform(numericFeaturesTrain)\n",
    "testDfPca = pca.transform(numericFeaturesTest)\n",
    "\n",
    "varianceExplained = pca.explained_variance_ratio_\n",
    "cumulativeVarianceExplained = np.cumsum(varianceExplained)\n",
    "\n",
    "print(\"Cumulative Variance Explained by Principal Components:\")\n",
    "print(cumulativeVarianceExplained)\n",
    "\n",
    "\n",
    "print(\"Minimum number of dimensions to retain 95% of the variance:\", 6)"
   ]
  },
  {
   "cell_type": "markdown",
   "metadata": {},
   "source": [
    "<span style=\"color: cyan;\">The minimum number of dimensions to retain 95% of the variance is 6, which retains about 99% of the variance. With 2 dimensions, only about 51% of the variance will be retained.</span>"
   ]
  },
  {
   "cell_type": "code",
   "execution_count": 20,
   "metadata": {},
   "outputs": [
    {
     "data": {
      "text/html": [
       "<div>\n",
       "<style scoped>\n",
       "    .dataframe tbody tr th:only-of-type {\n",
       "        vertical-align: middle;\n",
       "    }\n",
       "\n",
       "    .dataframe tbody tr th {\n",
       "        vertical-align: top;\n",
       "    }\n",
       "\n",
       "    .dataframe thead th {\n",
       "        text-align: right;\n",
       "    }\n",
       "</style>\n",
       "<table border=\"1\" class=\"dataframe\">\n",
       "  <thead>\n",
       "    <tr style=\"text-align: right;\">\n",
       "      <th></th>\n",
       "      <th>livingRoom</th>\n",
       "      <th>drawingRoom</th>\n",
       "      <th>kitchen</th>\n",
       "      <th>bathRoom</th>\n",
       "      <th>buildingType</th>\n",
       "      <th>renovationCondition</th>\n",
       "      <th>buildingStructure</th>\n",
       "      <th>elevator</th>\n",
       "      <th>fiveYearsProperty</th>\n",
       "      <th>subway</th>\n",
       "      <th>district</th>\n",
       "      <th>price</th>\n",
       "      <th>districtLevel</th>\n",
       "      <th>PCA1</th>\n",
       "      <th>PCA2</th>\n",
       "    </tr>\n",
       "  </thead>\n",
       "  <tbody>\n",
       "    <tr>\n",
       "      <th>0</th>\n",
       "      <td>-1.313392</td>\n",
       "      <td>-0.338683</td>\n",
       "      <td>0.052225</td>\n",
       "      <td>-0.440956</td>\n",
       "      <td>-1.571416</td>\n",
       "      <td>-1.209114</td>\n",
       "      <td>0.797615</td>\n",
       "      <td>0.841453</td>\n",
       "      <td>-1.352681</td>\n",
       "      <td>0.830900</td>\n",
       "      <td>0.113412</td>\n",
       "      <td>0.039759</td>\n",
       "      <td>9</td>\n",
       "      <td>0.818446</td>\n",
       "      <td>-1.286175</td>\n",
       "    </tr>\n",
       "    <tr>\n",
       "      <th>1</th>\n",
       "      <td>1.293347</td>\n",
       "      <td>1.572176</td>\n",
       "      <td>0.052225</td>\n",
       "      <td>1.897958</td>\n",
       "      <td>0.785036</td>\n",
       "      <td>1.069568</td>\n",
       "      <td>0.797615</td>\n",
       "      <td>-1.188421</td>\n",
       "      <td>0.739273</td>\n",
       "      <td>0.830900</td>\n",
       "      <td>-0.247828</td>\n",
       "      <td>-0.913137</td>\n",
       "      <td>5</td>\n",
       "      <td>0.940361</td>\n",
       "      <td>-0.118847</td>\n",
       "    </tr>\n",
       "    <tr>\n",
       "      <th>2</th>\n",
       "      <td>1.293347</td>\n",
       "      <td>1.572176</td>\n",
       "      <td>0.052225</td>\n",
       "      <td>1.897958</td>\n",
       "      <td>-0.000448</td>\n",
       "      <td>-1.209114</td>\n",
       "      <td>0.797615</td>\n",
       "      <td>0.841453</td>\n",
       "      <td>0.739273</td>\n",
       "      <td>-1.203515</td>\n",
       "      <td>0.113412</td>\n",
       "      <td>-0.226529</td>\n",
       "      <td>9</td>\n",
       "      <td>2.022788</td>\n",
       "      <td>0.092548</td>\n",
       "    </tr>\n",
       "    <tr>\n",
       "      <th>3</th>\n",
       "      <td>-0.010022</td>\n",
       "      <td>-0.338683</td>\n",
       "      <td>0.052225</td>\n",
       "      <td>-0.440956</td>\n",
       "      <td>0.785036</td>\n",
       "      <td>0.310007</td>\n",
       "      <td>-1.314929</td>\n",
       "      <td>-1.188421</td>\n",
       "      <td>0.739273</td>\n",
       "      <td>0.830900</td>\n",
       "      <td>0.835892</td>\n",
       "      <td>-0.597450</td>\n",
       "      <td>7</td>\n",
       "      <td>-1.191167</td>\n",
       "      <td>0.201570</td>\n",
       "    </tr>\n",
       "    <tr>\n",
       "      <th>4</th>\n",
       "      <td>-0.010022</td>\n",
       "      <td>-0.338683</td>\n",
       "      <td>0.052225</td>\n",
       "      <td>-0.440956</td>\n",
       "      <td>0.785036</td>\n",
       "      <td>1.069568</td>\n",
       "      <td>0.797615</td>\n",
       "      <td>0.841453</td>\n",
       "      <td>0.739273</td>\n",
       "      <td>0.830900</td>\n",
       "      <td>0.474652</td>\n",
       "      <td>1.090296</td>\n",
       "      <td>10</td>\n",
       "      <td>0.656674</td>\n",
       "      <td>0.288694</td>\n",
       "    </tr>\n",
       "    <tr>\n",
       "      <th>...</th>\n",
       "      <td>...</td>\n",
       "      <td>...</td>\n",
       "      <td>...</td>\n",
       "      <td>...</td>\n",
       "      <td>...</td>\n",
       "      <td>...</td>\n",
       "      <td>...</td>\n",
       "      <td>...</td>\n",
       "      <td>...</td>\n",
       "      <td>...</td>\n",
       "      <td>...</td>\n",
       "      <td>...</td>\n",
       "      <td>...</td>\n",
       "      <td>...</td>\n",
       "      <td>...</td>\n",
       "    </tr>\n",
       "    <tr>\n",
       "      <th>268261</th>\n",
       "      <td>-1.313392</td>\n",
       "      <td>-0.338683</td>\n",
       "      <td>0.052225</td>\n",
       "      <td>-0.440956</td>\n",
       "      <td>-0.000448</td>\n",
       "      <td>1.069568</td>\n",
       "      <td>0.797615</td>\n",
       "      <td>0.841453</td>\n",
       "      <td>0.739273</td>\n",
       "      <td>-1.203515</td>\n",
       "      <td>-1.692788</td>\n",
       "      <td>-0.641591</td>\n",
       "      <td>8</td>\n",
       "      <td>0.549222</td>\n",
       "      <td>-0.064737</td>\n",
       "    </tr>\n",
       "    <tr>\n",
       "      <th>268262</th>\n",
       "      <td>-1.313392</td>\n",
       "      <td>-0.338683</td>\n",
       "      <td>0.052225</td>\n",
       "      <td>-0.440956</td>\n",
       "      <td>-1.571416</td>\n",
       "      <td>-1.209114</td>\n",
       "      <td>-1.314929</td>\n",
       "      <td>0.841453</td>\n",
       "      <td>0.739273</td>\n",
       "      <td>0.830900</td>\n",
       "      <td>1.197132</td>\n",
       "      <td>0.688754</td>\n",
       "      <td>12</td>\n",
       "      <td>-2.773631</td>\n",
       "      <td>-1.517983</td>\n",
       "    </tr>\n",
       "    <tr>\n",
       "      <th>268263</th>\n",
       "      <td>-0.010022</td>\n",
       "      <td>-0.338683</td>\n",
       "      <td>0.052225</td>\n",
       "      <td>-0.440956</td>\n",
       "      <td>0.785036</td>\n",
       "      <td>0.310007</td>\n",
       "      <td>-1.314929</td>\n",
       "      <td>-1.188421</td>\n",
       "      <td>0.739273</td>\n",
       "      <td>-1.203515</td>\n",
       "      <td>0.474652</td>\n",
       "      <td>1.474563</td>\n",
       "      <td>10</td>\n",
       "      <td>-1.489801</td>\n",
       "      <td>1.800434</td>\n",
       "    </tr>\n",
       "    <tr>\n",
       "      <th>268264</th>\n",
       "      <td>-1.313392</td>\n",
       "      <td>-0.338683</td>\n",
       "      <td>0.052225</td>\n",
       "      <td>-0.440956</td>\n",
       "      <td>0.785036</td>\n",
       "      <td>-1.209114</td>\n",
       "      <td>-1.314929</td>\n",
       "      <td>-1.188421</td>\n",
       "      <td>0.739273</td>\n",
       "      <td>0.830900</td>\n",
       "      <td>0.113412</td>\n",
       "      <td>0.483997</td>\n",
       "      <td>9</td>\n",
       "      <td>-1.913621</td>\n",
       "      <td>-0.385912</td>\n",
       "    </tr>\n",
       "    <tr>\n",
       "      <th>268265</th>\n",
       "      <td>-0.010022</td>\n",
       "      <td>-0.338683</td>\n",
       "      <td>0.052225</td>\n",
       "      <td>-0.440956</td>\n",
       "      <td>0.785036</td>\n",
       "      <td>0.310007</td>\n",
       "      <td>-0.258657</td>\n",
       "      <td>-1.188421</td>\n",
       "      <td>0.739273</td>\n",
       "      <td>0.830900</td>\n",
       "      <td>-2.054028</td>\n",
       "      <td>2.529433</td>\n",
       "      <td>11</td>\n",
       "      <td>-2.533692</td>\n",
       "      <td>1.251259</td>\n",
       "    </tr>\n",
       "  </tbody>\n",
       "</table>\n",
       "<p>268266 rows × 15 columns</p>\n",
       "</div>"
      ],
      "text/plain": [
       "        livingRoom  drawingRoom   kitchen  bathRoom  buildingType  \\\n",
       "0        -1.313392    -0.338683  0.052225 -0.440956     -1.571416   \n",
       "1         1.293347     1.572176  0.052225  1.897958      0.785036   \n",
       "2         1.293347     1.572176  0.052225  1.897958     -0.000448   \n",
       "3        -0.010022    -0.338683  0.052225 -0.440956      0.785036   \n",
       "4        -0.010022    -0.338683  0.052225 -0.440956      0.785036   \n",
       "...            ...          ...       ...       ...           ...   \n",
       "268261   -1.313392    -0.338683  0.052225 -0.440956     -0.000448   \n",
       "268262   -1.313392    -0.338683  0.052225 -0.440956     -1.571416   \n",
       "268263   -0.010022    -0.338683  0.052225 -0.440956      0.785036   \n",
       "268264   -1.313392    -0.338683  0.052225 -0.440956      0.785036   \n",
       "268265   -0.010022    -0.338683  0.052225 -0.440956      0.785036   \n",
       "\n",
       "        renovationCondition  buildingStructure  elevator  fiveYearsProperty  \\\n",
       "0                 -1.209114           0.797615  0.841453          -1.352681   \n",
       "1                  1.069568           0.797615 -1.188421           0.739273   \n",
       "2                 -1.209114           0.797615  0.841453           0.739273   \n",
       "3                  0.310007          -1.314929 -1.188421           0.739273   \n",
       "4                  1.069568           0.797615  0.841453           0.739273   \n",
       "...                     ...                ...       ...                ...   \n",
       "268261             1.069568           0.797615  0.841453           0.739273   \n",
       "268262            -1.209114          -1.314929  0.841453           0.739273   \n",
       "268263             0.310007          -1.314929 -1.188421           0.739273   \n",
       "268264            -1.209114          -1.314929 -1.188421           0.739273   \n",
       "268265             0.310007          -0.258657 -1.188421           0.739273   \n",
       "\n",
       "          subway  district     price  districtLevel      PCA1      PCA2  \n",
       "0       0.830900  0.113412  0.039759              9  0.818446 -1.286175  \n",
       "1       0.830900 -0.247828 -0.913137              5  0.940361 -0.118847  \n",
       "2      -1.203515  0.113412 -0.226529              9  2.022788  0.092548  \n",
       "3       0.830900  0.835892 -0.597450              7 -1.191167  0.201570  \n",
       "4       0.830900  0.474652  1.090296             10  0.656674  0.288694  \n",
       "...          ...       ...       ...            ...       ...       ...  \n",
       "268261 -1.203515 -1.692788 -0.641591              8  0.549222 -0.064737  \n",
       "268262  0.830900  1.197132  0.688754             12 -2.773631 -1.517983  \n",
       "268263 -1.203515  0.474652  1.474563             10 -1.489801  1.800434  \n",
       "268264  0.830900  0.113412  0.483997              9 -1.913621 -0.385912  \n",
       "268265  0.830900 -2.054028  2.529433             11 -2.533692  1.251259  \n",
       "\n",
       "[268266 rows x 15 columns]"
      ]
     },
     "execution_count": 20,
     "metadata": {},
     "output_type": "execute_result"
    }
   ],
   "source": [
    "trainDfPca = pd.concat([trainDf.drop(columns=numericalColumnsList), pd.DataFrame(trainDfPca, columns=['PCA1', 'PCA2'])], axis=1)\n",
    "testDfPca = pd.concat([testDf.drop(columns=numericalColumnsList), pd.DataFrame(testDfPca, columns=['PCA1', 'PCA2'])], axis=1)\n",
    "trainDfPca"
   ]
  },
  {
   "cell_type": "markdown",
   "metadata": {},
   "source": [
    "## <span style=\"color: orange;\">**Part 4: Evaluation Metric**</span>"
   ]
  },
  {
   "cell_type": "code",
   "execution_count": 21,
   "metadata": {},
   "outputs": [
    {
     "name": "stdout",
     "output_type": "stream",
     "text": [
      "R2 Score: 0.7581610983219744\n",
      "RMSE: 0.4874311399401236\n"
     ]
    }
   ],
   "source": [
    "runLinearRegression(trainDf.drop(columns=[targetColumn]), testDf.drop(columns=[targetColumn]), \n",
    "                    trainDf[targetColumn], testDf[targetColumn])"
   ]
  },
  {
   "cell_type": "markdown",
   "metadata": {},
   "source": [
    "<span style=\"color: cyan;\"> \n",
    "In regression problems like predicting house prices, R-squared (R²) and Root Mean Squared Error (RMSE) are essential evaluation metrics.\n",
    "\n",
    "1. **R-squared (R²) Score**: Measures the proportion of variance in house prices explained by features. Ranges from 0 to 1; higher values indicate better fit.\n",
    "\n",
    "2. **Root Mean Squared Error (RMSE)**: Gives the average magnitude of prediction errors. Lower values indicate better model performance.\n",
    "\n",
    "Both metrics offer insights: R² assesses overall model fit, while RMSE quantifies prediction accuracy.\n",
    "\n",
    "Using R² and RMSE together provides a comprehensive understanding of model performance. High R² and low RMSE signify a well-performing model, explaining much variance with small errors.\n",
    "\n",
    "</span>"
   ]
  },
  {
   "cell_type": "markdown",
   "metadata": {},
   "source": [
    "<span style=\"color:cyan\">\n",
    "\n",
    "Because we want to run classification models on our data set as well, we used classification metrics like accuracy, F1 score, precision, and recall in these models.\n",
    "\n",
    "- **Accuracy** measures the proportion of correctly classified instances out of the total instances.\n",
    "- **F1 Score** is the harmonic mean of precision and recall, providing a balance between the two, especially useful in cases of class imbalance.\n",
    "- **Precision** indicates the proportion of true positive predictions among all positive predictions, showing how many of the predicted positive cases are actually positive.\n",
    "- **Recall** (or sensitivity) measures the proportion of actual positives that were correctly identified by the model, showing how well the model captures all the positive cases.\n",
    "\n",
    "</span>"
   ]
  },
  {
   "cell_type": "markdown",
   "metadata": {},
   "source": [
    "## <span style=\"color: orange;\">**Part 5: Model Training**</span>"
   ]
  },
  {
   "cell_type": "markdown",
   "metadata": {},
   "source": [
    "### <span style=\"color: pink;\">**Method One: Neural Network**</span>"
   ]
  },
  {
   "cell_type": "code",
   "execution_count": 22,
   "metadata": {},
   "outputs": [],
   "source": [
    "def trainAndEvaluateCNNModel(XTrain, XTest, yTrain, yTest):\n",
    "    warnings.filterwarnings(\"ignore\")\n",
    "    model = Sequential([\n",
    "        Dense(128, kernel_initializer='normal', activation='relu', input_shape=(XTrain.shape[1],)),\n",
    "        Dense(64, kernel_initializer='normal', activation='relu'),\n",
    "        Dense(32, kernel_initializer='normal', activation='relu'),\n",
    "        Dense(1, kernel_initializer='normal')  \n",
    "    ])\n",
    "    model.compile(optimizer=Adam(), loss='mean_squared_error')\n",
    "    history = model.fit(XTrain, yTrain, validation_data=(XTest, yTest), epochs=100, batch_size=32, verbose=0, callbacks=[TqdmCallback()])\n",
    "    plt.plot(history.history['loss'], label='Training Error')\n",
    "    plt.plot(history.history['val_loss'], label='Validation Error')\n",
    "    plt.xlabel('Epochs')\n",
    "    plt.ylabel('Mean Squared Error')\n",
    "    plt.title('Training Error Plot')\n",
    "    plt.legend()\n",
    "    plt.show()\n",
    "    loss = model.evaluate(XTest, yTest)\n",
    "    print(\"Test Loss (Mean Squared Error):\", loss)\n",
    "    yPred = model.predict(XTest)\n",
    "    r2 = r2_score(yTest, yPred)\n",
    "    print(\"R-squared (R²) Score:\", r2)"
   ]
  },
  {
   "cell_type": "code",
   "execution_count": 23,
   "metadata": {},
   "outputs": [
    {
     "name": "stderr",
     "output_type": "stream",
     "text": [
      "100%|██████████| 100/100 [07:03<00:00,  4.23s/epoch, loss=0.113, val_loss=0.122]\n"
     ]
    },
    {
     "data": {
      "image/png": "[encoded data removed]",
      "text/plain": [
       "<Figure size 640x480 with 1 Axes>"
      ]
     },
     "metadata": {},
     "output_type": "display_data"
    },
    {
     "name": "stdout",
     "output_type": "stream",
     "text": [
      "\u001b[1m932/932\u001b[0m \u001b[32m━━━━━━━━━━━━━━━━━━━━\u001b[0m\u001b[37m\u001b[0m \u001b[1m0s\u001b[0m 333us/step - loss: 0.1200\n",
      "Test Loss (Mean Squared Error): 0.12159360945224762\n",
      "\u001b[1m932/932\u001b[0m \u001b[32m━━━━━━━━━━━━━━━━━━━━\u001b[0m\u001b[37m\u001b[0m \u001b[1m0s\u001b[0m 405us/step\n",
      "R-squared (R²) Score: 0.8762314086970017\n"
     ]
    }
   ],
   "source": [
    "trainAndEvaluateCNNModel(trainDf.drop(columns=[targetColumn]), testDf.drop(columns=[targetColumn]), trainDf[targetColumn], testDf[targetColumn])"
   ]
  },
  {
   "cell_type": "code",
   "execution_count": 24,
   "metadata": {},
   "outputs": [
    {
     "name": "stderr",
     "output_type": "stream",
     "text": [
      "100%|██████████| 100/100 [07:02<00:00,  4.23s/epoch, loss=0.298, val_loss=0.317]\n"
     ]
    },
    {
     "data": {
      "image/png": "[encoded data removed]",
      "text/plain": [
       "<Figure size 640x480 with 1 Axes>"
      ]
     },
     "metadata": {},
     "output_type": "display_data"
    },
    {
     "name": "stdout",
     "output_type": "stream",
     "text": [
      "\u001b[1m932/932\u001b[0m \u001b[32m━━━━━━━━━━━━━━━━━━━━\u001b[0m\u001b[37m\u001b[0m \u001b[1m0s\u001b[0m 335us/step - loss: 0.3233\n",
      "Test Loss (Mean Squared Error): 0.31738418340682983\n",
      "\u001b[1m932/932\u001b[0m \u001b[32m━━━━━━━━━━━━━━━━━━━━\u001b[0m\u001b[37m\u001b[0m \u001b[1m0s\u001b[0m 408us/step\n",
      "R-squared (R²) Score: 0.6769386214987123\n"
     ]
    }
   ],
   "source": [
    "trainAndEvaluateCNNModel(trainDfPca.drop(columns=[targetColumn]), testDfPca.drop(columns=[targetColumn]), trainDfPca[targetColumn], testDfPca[targetColumn])"
   ]
  },
  {
   "cell_type": "markdown",
   "metadata": {},
   "source": [
    "<span style=\"color: cyan;\"> \n",
    "\n",
    "**Network Architecture**:\n",
    "- **Layers**: The model consists of three hidden layers with 128, 64, and 32 neurons respectively, all using ReLU activation. The input layer matches the shape of the training data, and the output layer has a single neuron for regression.\n",
    "- **Reason**: This architecture is chosen to progressively reduce the complexity and extract meaningful patterns from the data for predicting a continuous target.\n",
    "\n",
    "**Loss Function**:\n",
    "- **Type**: Mean Squared Error (MSE)\n",
    "- **Reason**: MSE is ideal for regression tasks as it penalizes larger errors more, thus providing a clear measure of how well the model's predictions match the actual values.\n",
    "\n",
    "**Optimization Algorithm**:\n",
    "- **Type**: Adam (Adaptive Moment Estimation)\n",
    "- **Reason**: Adam is selected for its efficiency and ability to handle sparse gradients, making it suitable for training deep networks with varying learning rates.\n",
    "\n",
    "</span>"
   ]
  },
  {
   "cell_type": "markdown",
   "metadata": {},
   "source": [
    "<span style=\"color:cyan;\">As you can see, the result of the CNN model for the dataframe with PCA is much lower than for the original dataframe. This might be because with 2 principal components, it only retains 51% of the variance, and to retain 95% of the variance, we need 6 principal components.</span>\n"
   ]
  },
  {
   "cell_type": "markdown",
   "metadata": {},
   "source": [
    "### <span style=\"color: pink;\">**Methods Two & Three**</span>"
   ]
  },
  {
   "cell_type": "code",
   "execution_count": 25,
   "metadata": {},
   "outputs": [
    {
     "name": "stdout",
     "output_type": "stream",
     "text": [
      "R2 Score: 0.7581610983219744\n",
      "RMSE: 0.4874311399401236\n"
     ]
    }
   ],
   "source": [
    "runLinearRegression(trainDf.drop(columns=[targetColumn]), testDf.drop(columns=[targetColumn]), trainDf[targetColumn], testDf[targetColumn])"
   ]
  },
  {
   "cell_type": "code",
   "execution_count": 26,
   "metadata": {},
   "outputs": [
    {
     "name": "stdout",
     "output_type": "stream",
     "text": [
      "R2 Score: 0.5158396184576882\n",
      "RMSE: 0.6896755253778938\n"
     ]
    }
   ],
   "source": [
    "runLinearRegression(trainDfPca.drop(columns=[targetColumn]), testDfPca.drop(columns=[targetColumn]), trainDfPca[targetColumn], testDfPca[targetColumn])"
   ]
  },
  {
   "cell_type": "markdown",
   "metadata": {},
   "source": [
    "<span style=\"color:cyan;\">As you can see, the result of Linear Regression for the dataframe with PCA is much lower than for the original dataframe. This might be because with 2 principal components, it only retains 51% of the variance, and to retain 95% of the variance, we need 6 principal components.</span>"
   ]
  },
  {
   "cell_type": "code",
   "execution_count": 27,
   "metadata": {},
   "outputs": [],
   "source": [
    "def trainXgboostRegressor(XTrain, XTest, yTrain, yTest):\n",
    "    model = xgb.XGBRegressor(objective='reg:squarederror', n_estimators=1000, learning_rate=0.2)\n",
    "    model.fit(XTrain, yTrain)\n",
    "    yPred = model.predict(XTest)\n",
    "    mse = mean_squared_error(yTest, yPred)\n",
    "    rmse = mse ** 0.5\n",
    "    r2 = r2_score(yTest, yPred)\n",
    "    print(f\"R-squared (R²) Score: {r2:.4f}\")\n",
    "    print(f\"Root Mean Squared Error (RMSE): {rmse:.4f}\")"
   ]
  },
  {
   "cell_type": "code",
   "execution_count": 28,
   "metadata": {},
   "outputs": [
    {
     "name": "stdout",
     "output_type": "stream",
     "text": [
      "R-squared (R²) Score: 0.8973\n",
      "Root Mean Squared Error (RMSE): 0.3176\n"
     ]
    }
   ],
   "source": [
    "trainXgboostRegressor(trainDf.drop(columns=[targetColumn]), testDf.drop(columns=[targetColumn]), trainDf[targetColumn], testDf[targetColumn])"
   ]
  },
  {
   "cell_type": "code",
   "execution_count": 29,
   "metadata": {},
   "outputs": [
    {
     "name": "stdout",
     "output_type": "stream",
     "text": [
      "R-squared (R²) Score: 0.6807\n",
      "Root Mean Squared Error (RMSE): 0.5601\n"
     ]
    }
   ],
   "source": [
    "trainXgboostRegressor(trainDfPca.drop(columns=[targetColumn]), testDfPca.drop(columns=[targetColumn]), trainDfPca[targetColumn], testDfPca[targetColumn])"
   ]
  },
  {
   "cell_type": "markdown",
   "metadata": {},
   "source": [
    "<span style=\"color:cyan;\">\n",
    "\n",
    "**n_estimators**=1000: This means the model uses 1000 trees. More trees generally help capture complex patterns in the data, improving the model's performance.\n",
    "\n",
    "**learning_rate=0.2**: This means each tree's contribution is relatively large, allowing the model to learn faster.\n",
    "Combined Effect: The high number of trees with a moderately high learning rate creates a balance. The model learns quickly and captures detailed patterns without overfitting too much. This combination often results in a strong and well-generalized model.\n",
    "\n",
    "</span>"
   ]
  },
  {
   "cell_type": "markdown",
   "metadata": {},
   "source": [
    "<span style=\"color:cyan;\">As you can see, the result of XGBoost Regressor for the dataframe with PCA is much lower than for the original dataframe. This might be because with 2 principal components, it only retains 51% of the variance, and to retain 95% of the variance, we need 6 principal components.</span>"
   ]
  },
  {
   "cell_type": "code",
   "execution_count": 30,
   "metadata": {},
   "outputs": [],
   "source": [
    "def runDecisionTree(XTrain, XTest, yTrain, yTest):\n",
    "    model = DecisionTreeClassifier(random_state=17, max_depth=20, min_samples_leaf=20, min_samples_split=2, criterion='entropy')\n",
    "    model.fit(XTrain, yTrain)\n",
    "    yTrainPred = model.predict(XTrain)\n",
    "    yTestPred = model.predict(XTest)\n",
    "    \n",
    "    trainAccuracy = accuracy_score(yTrain, yTrainPred)\n",
    "    trainPrecision = precision_score(yTrain, yTrainPred, average='weighted')\n",
    "    trainRecall = recall_score(yTrain, yTrainPred, average='weighted')\n",
    "    trainF1 = f1_score(yTrain, yTrainPred, average='weighted')\n",
    "    \n",
    "    testAccuracy = accuracy_score(yTest, yTestPred)\n",
    "    testPrecision = precision_score(yTest, yTestPred, average='weighted')\n",
    "    testRecall = recall_score(yTest, yTestPred, average='weighted')\n",
    "    testF1 = f1_score(yTest, yTestPred, average='weighted')\n",
    "    \n",
    "    print(\"Training Metrics:\")\n",
    "    print(f\"Accuracy: {trainAccuracy:.2f}\")\n",
    "    print(f\"Precision: {trainPrecision:.2f}\")\n",
    "    print(f\"Recall: {trainRecall:.2f}\")\n",
    "    print(f\"F1 Score: {trainF1:.2f}\")\n",
    "    print(\"\\nTest Metrics:\")\n",
    "    print(f\"Accuracy: {testAccuracy:.2f}\")\n",
    "    print(f\"Precision: {testPrecision:.2f}\")\n",
    "    print(f\"Recall: {testRecall:.2f}\")\n",
    "    print(f\"F1 Score: {testF1:.2f}\")\n",
    "    print(\"\\nClassification Report (Test Data):\")\n",
    "    print(classification_report(yTest, yTestPred))\n",
    "    print(\"Confusion Matrix (Test Data):\")\n",
    "    print(confusion_matrix(yTest, yTestPred))"
   ]
  },
  {
   "cell_type": "code",
   "execution_count": 31,
   "metadata": {},
   "outputs": [],
   "source": [
    "def plotErrorDecisionTree(XTrain, XTest, yTrain, yTest):\n",
    "    trainErrors = []\n",
    "    testErrors = []\n",
    "    maxDepths = range(1, 21)\n",
    "    for depth in maxDepths:\n",
    "        model = DecisionTreeClassifier(max_depth=depth, random_state=17)\n",
    "        model.fit(XTrain, yTrain)\n",
    "        train_accuracy = accuracy_score(yTrain, model.predict(XTrain))\n",
    "        test_accuracy = accuracy_score(yTest, model.predict(XTest))\n",
    "        trainErrors.append(1 - train_accuracy)\n",
    "        testErrors.append(1 - test_accuracy)\n",
    "    plt.figure(figsize=(10, 6))\n",
    "    plt.plot(maxDepths, trainErrors, label=\"Training Error\")\n",
    "    plt.plot(maxDepths, testErrors, label=\"Test Error\")\n",
    "    plt.xlabel(\"Maximum Depth\")\n",
    "    plt.ylabel(\"Error Rate\")\n",
    "    plt.title(\"Training and Test Error vs Maximum Depth\")\n",
    "    plt.legend()\n",
    "    plt.show()"
   ]
  },
  {
   "cell_type": "code",
   "execution_count": 32,
   "metadata": {},
   "outputs": [
    {
     "name": "stdout",
     "output_type": "stream",
     "text": [
      "Training Metrics:\n",
      "Accuracy: 0.86\n",
      "Precision: 0.86\n",
      "Recall: 0.86\n",
      "F1 Score: 0.86\n",
      "\n",
      "Test Metrics:\n",
      "Accuracy: 0.82\n",
      "Precision: 0.83\n",
      "Recall: 0.82\n",
      "F1 Score: 0.82\n",
      "\n",
      "Classification Report (Test Data):\n",
      "              precision    recall  f1-score   support\n",
      "\n",
      "        High       0.86      0.86      0.86      9974\n",
      "         Low       0.87      0.86      0.87      9891\n",
      "      Medium       0.74      0.75      0.74      9943\n",
      "\n",
      "    accuracy                           0.82     29808\n",
      "   macro avg       0.83      0.82      0.82     29808\n",
      "weighted avg       0.83      0.82      0.82     29808\n",
      "\n",
      "Confusion Matrix (Test Data):\n",
      "[[8611   38 1325]\n",
      " [  55 8552 1284]\n",
      " [1340 1185 7418]]\n"
     ]
    },
    {
     "data": {
      "image/png": "[encoded data removed]",
      "text/plain": [
       "<Figure size 1000x600 with 1 Axes>"
      ]
     },
     "metadata": {},
     "output_type": "display_data"
    }
   ],
   "source": [
    "runDecisionTree(trainDf.drop(columns=[targetColumn]), testDf.drop(columns=[targetColumn]), trainDataPriceClass, testDataPriceClass)\n",
    "plotErrorDecisionTree(trainDf.drop(columns=[targetColumn]), testDf.drop(columns=[targetColumn]), trainDataPriceClass, testDataPriceClass)"
   ]
  },
  {
   "cell_type": "code",
   "execution_count": 33,
   "metadata": {},
   "outputs": [
    {
     "name": "stdout",
     "output_type": "stream",
     "text": [
      "Training Metrics:\n",
      "Accuracy: 0.76\n",
      "Precision: 0.76\n",
      "Recall: 0.76\n",
      "F1 Score: 0.76\n",
      "\n",
      "Test Metrics:\n",
      "Accuracy: 0.71\n",
      "Precision: 0.71\n",
      "Recall: 0.71\n",
      "F1 Score: 0.71\n",
      "\n",
      "Classification Report (Test Data):\n",
      "              precision    recall  f1-score   support\n",
      "\n",
      "        High       0.72      0.78      0.75      9974\n",
      "         Low       0.81      0.77      0.79      9891\n",
      "      Medium       0.62      0.59      0.60      9943\n",
      "\n",
      "    accuracy                           0.71     29808\n",
      "   macro avg       0.71      0.71      0.71     29808\n",
      "weighted avg       0.71      0.71      0.71     29808\n",
      "\n",
      "Confusion Matrix (Test Data):\n",
      "[[7783  293 1898]\n",
      " [ 495 7649 1747]\n",
      " [2550 1554 5839]]\n"
     ]
    },
    {
     "data": {
      "image/png": "[encoded data removed]",
      "text/plain": [
       "<Figure size 1000x600 with 1 Axes>"
      ]
     },
     "metadata": {},
     "output_type": "display_data"
    }
   ],
   "source": [
    "runDecisionTree(trainDfPca.drop(columns=[targetColumn]), testDfPca.drop(columns=[targetColumn]), trainDataPriceClass, testDataPriceClass)\n",
    "plotErrorDecisionTree(trainDfPca.drop(columns=[targetColumn]), testDfPca.drop(columns=[targetColumn]), trainDataPriceClass, testDataPriceClass)"
   ]
  },
  {
   "cell_type": "markdown",
   "metadata": {},
   "source": [
    "<span style=\"color:cyan;\">\n",
    "\n",
    "**max_depth**=20: Limits how deep the tree can grow, controlling model complexity.\n",
    "\n",
    "**min_samples_leaf**=20: Sets the minimum samples required in leaf nodes to prevent overfitting.\n",
    "\n",
    "**min_samples_split**=2: Specifies the minimum samples a node must have to split, avoiding splits that don't add value.\n",
    "\n",
    "**criterion**='entropy': Measures split quality using entropy, which quantifies information gain.\n",
    "\n",
    "These parameters tailor the decision tree's structure and decision-making process to balance complexity and accuracy on new data.\n",
    "\n",
    "</span>"
   ]
  },
  {
   "cell_type": "code",
   "execution_count": 34,
   "metadata": {},
   "outputs": [],
   "source": [
    "def runXGBoostClassifier(XTrain, XTest, yTrain, yTest):\n",
    "    model = xgb.XGBClassifier(use_label_encoder=False, eval_metric='mlogloss', random_state=19)\n",
    "    model.fit(XTrain, yTrain)\n",
    "    yTrainPred = model.predict(XTrain)\n",
    "    yTestPred = model.predict(XTest)\n",
    "    \n",
    "    trainAccuracy = accuracy_score(yTrain, yTrainPred)\n",
    "    trainPrecision = precision_score(yTrain, yTrainPred, average='weighted')\n",
    "    trainRecall = recall_score(yTrain, yTrainPred, average='weighted')\n",
    "    trainF1 = f1_score(yTrain, yTrainPred, average='weighted')\n",
    "    \n",
    "    testAccuracy = accuracy_score(yTest, yTestPred)\n",
    "    testPrecision = precision_score(yTest, yTestPred, average='weighted')\n",
    "    testRecall = recall_score(yTest, yTestPred, average='weighted')\n",
    "    testF1 = f1_score(yTest, yTestPred, average='weighted')\n",
    "    \n",
    "    print(\"Training Metrics:\")\n",
    "    print(f\"Accuracy: {trainAccuracy:.2f}\")\n",
    "    print(f\"Precision: {trainPrecision:.2f}\")\n",
    "    print(f\"Recall: {trainRecall:.2f}\")\n",
    "    print(f\"F1 Score: {trainF1:.2f}\")\n",
    "    print(\"\\nTest Metrics:\")\n",
    "    print(f\"Accuracy: {testAccuracy:.2f}\")\n",
    "    print(f\"Precision: {testPrecision:.2f}\")\n",
    "    print(f\"Recall: {testRecall:.2f}\")\n",
    "    print(f\"F1 Score: {testF1:.2f}\")\n",
    "    print(\"\\nClassification Report (Test Data):\")\n",
    "    print(classification_report(yTest, yTestPred))\n",
    "    print(\"Confusion Matrix (Test Data):\")\n",
    "    print(confusion_matrix(yTest, yTestPred))"
   ]
  },
  {
   "cell_type": "code",
   "execution_count": 35,
   "metadata": {},
   "outputs": [],
   "source": [
    "def plotErrorXGBoost(XTrain, XTest, yTrain, yTest):\n",
    "    trainErrors = []\n",
    "    testErrors = []\n",
    "    maxDepths = range(1, 21)\n",
    "    for depth in maxDepths:\n",
    "        model = xgb.XGBClassifier(max_depth=depth, random_state=17, use_label_encoder=False, eval_metric='logloss')\n",
    "        model.fit(XTrain, yTrain)\n",
    "        train_accuracy = accuracy_score(yTrain, model.predict(XTrain))\n",
    "        test_accuracy = accuracy_score(yTest, model.predict(XTest))\n",
    "        trainErrors.append(1 - train_accuracy)\n",
    "        testErrors.append(1 - test_accuracy)\n",
    "    plt.figure(figsize=(10, 6))\n",
    "    plt.plot(maxDepths, trainErrors, label=\"Training Error\")\n",
    "    plt.plot(maxDepths, testErrors, label=\"Test Error\")\n",
    "    plt.xlabel(\"Maximum Depth\")\n",
    "    plt.ylabel(\"Error Rate\")\n",
    "    plt.title(\"Training and Test Error vs Maximum Depth (XGBoost)\")\n",
    "    plt.legend()\n",
    "    plt.show()"
   ]
  },
  {
   "cell_type": "code",
   "execution_count": 36,
   "metadata": {},
   "outputs": [
    {
     "name": "stdout",
     "output_type": "stream",
     "text": [
      "Training Metrics:\n",
      "Accuracy: 0.85\n",
      "Precision: 0.85\n",
      "Recall: 0.85\n",
      "F1 Score: 0.85\n",
      "\n",
      "Test Metrics:\n",
      "Accuracy: 0.84\n",
      "Precision: 0.84\n",
      "Recall: 0.84\n",
      "F1 Score: 0.84\n",
      "\n",
      "Classification Report (Test Data):\n",
      "              precision    recall  f1-score   support\n",
      "\n",
      "           0       0.89      0.87      0.88      9891\n",
      "           1       0.75      0.77      0.76      9943\n",
      "           2       0.88      0.87      0.87      9974\n",
      "\n",
      "    accuracy                           0.84     29808\n",
      "   macro avg       0.84      0.84      0.84     29808\n",
      "weighted avg       0.84      0.84      0.84     29808\n",
      "\n",
      "Confusion Matrix (Test Data):\n",
      "[[8609 1240   42]\n",
      " [1063 7702 1178]\n",
      " [  16 1324 8634]]\n"
     ]
    },
    {
     "data": {
      "image/png": "[encoded data removed]",
      "text/plain": [
       "<Figure size 1000x600 with 1 Axes>"
      ]
     },
     "metadata": {},
     "output_type": "display_data"
    }
   ],
   "source": [
    "mapping = {\"Low\": 0, \"Medium\": 1, \"High\": 2}\n",
    "runXGBoostClassifier(trainDf.drop(columns=[targetColumn]), testDf.drop(columns=[targetColumn]), trainDataPriceClass.replace(mapping), testDataPriceClass.replace(mapping))\n",
    "plotErrorXGBoost(trainDf.drop(columns=[targetColumn]), testDf.drop(columns=[targetColumn]), trainDataPriceClass.replace(mapping), testDataPriceClass.replace(mapping))"
   ]
  },
  {
   "cell_type": "code",
   "execution_count": 37,
   "metadata": {},
   "outputs": [
    {
     "name": "stdout",
     "output_type": "stream",
     "text": [
      "Training Metrics:\n",
      "Accuracy: 0.75\n",
      "Precision: 0.75\n",
      "Recall: 0.75\n",
      "F1 Score: 0.75\n",
      "\n",
      "Test Metrics:\n",
      "Accuracy: 0.73\n",
      "Precision: 0.73\n",
      "Recall: 0.73\n",
      "F1 Score: 0.73\n",
      "\n",
      "Classification Report (Test Data):\n",
      "              precision    recall  f1-score   support\n",
      "\n",
      "           0       0.84      0.78      0.81      9891\n",
      "           1       0.63      0.62      0.62      9943\n",
      "           2       0.74      0.80      0.77      9974\n",
      "\n",
      "    accuracy                           0.73     29808\n",
      "   macro avg       0.73      0.73      0.73     29808\n",
      "weighted avg       0.73      0.73      0.73     29808\n",
      "\n",
      "Confusion Matrix (Test Data):\n",
      "[[7714 1793  384]\n",
      " [1349 6168 2426]\n",
      " [ 158 1861 7955]]\n"
     ]
    },
    {
     "data": {
      "image/png": "[encoded data removed]",
      "text/plain": [
       "<Figure size 1000x600 with 1 Axes>"
      ]
     },
     "metadata": {},
     "output_type": "display_data"
    }
   ],
   "source": [
    "runXGBoostClassifier(trainDfPca.drop(columns=[targetColumn]), testDfPca.drop(columns=[targetColumn]), trainDataPriceClass.replace(mapping), testDataPriceClass.replace(mapping))\n",
    "plotErrorXGBoost(trainDfPca.drop(columns=[targetColumn]), testDfPca.drop(columns=[targetColumn]), trainDataPriceClass.replace(mapping), testDataPriceClass.replace(mapping))"
   ]
  },
  {
   "cell_type": "markdown",
   "metadata": {},
   "source": [
    "<font color='cyan'>\n",
    "\n",
    "use_label_encoder=False: Accepts non-integer labels directly without internal encoding.\n",
    "\n",
    "eval_metric='mlogloss': Evaluates model performance using Multiclass Logarithmic Loss.\n",
    "\n",
    "random_state=19: Sets the seed for random number generation to maintain result consistency.\n",
    "\n",
    "</font>"
   ]
  },
  {
   "cell_type": "markdown",
   "metadata": {},
   "source": [
    "<font color='cyan'>\n",
    "Because our results are equally important, the metric that holds the most significance for us is the F1 score, as it balances precision and recall, aligning with our objective.\n",
    "</font>"
   ]
  },
  {
   "cell_type": "markdown",
   "metadata": {},
   "source": [
    "<font color='cyan'>\n",
    "\n",
    "### Analysis:\n",
    "\n",
    "- **XGBoost Regressor** (90%): This method achieved the highest score among all models, indicating that it performed the best in terms of predictive accuracy for regression tasks. XGBoost is known for its strong performance in structured data scenarios, often outperforming traditional linear models like Linear Regression and Decision Trees.\n",
    "\n",
    "- **CNN** (around 87%): Convolutional Neural Networks typically excel in tasks involving images or sequential data, such as natural language processing. Achieving 87% suggests it performed very well, likely due to its ability to capture complex patterns in the data.\n",
    "\n",
    "- **XGBoost Classifier** (about 84%): This model also performed well, though slightly lower than the XGBoost Regressor. XGBoost as a classifier is effective for classification tasks due to its ensemble nature and ability to handle complex interactions in features.\n",
    "\n",
    "- **Decision Tree** (about 82%): Decision Trees are straightforward yet powerful models, but they can sometimes overfit or underfit depending on hyperparameters and data characteristics. Achieving around 80% suggests decent performance but not as high as the ensemble methods like XGBoost.\n",
    "\n",
    "- **Linear Regression** (about 76%): Linear Regression is a basic yet interpretable model suitable for regression tasks. Its lower score compared to more complex models like XGBoost indicates that the dataset may have nonlinear relationships or interactions that Linear Regression cannot capture effectively.\n",
    "\n",
    "### Conclusion:\n",
    "\n",
    "- **Best Performing Method**: Based on the provided scores, the **XGBoost Regressor** achieved the highest accuracy at 90%. This makes it the top performer among the listed methods for the regression task.\n",
    "\n",
    "- **Considerations**: The choice of the best method depends on various factors such as the specific nature of the data, computational efficiency requirements, interpretability, and the trade-off between bias and variance. XGBoost models generally offer robust performance across different types of datasets but may require more computational resources compared to simpler models like Linear Regression or Decision Trees.\n",
    "\n",
    "</font>"
   ]
  },
  {
   "cell_type": "markdown",
   "metadata": {},
   "source": [
    "## <span style=\"color: orange;\">**Part 6: Feature Analysis**</span>"
   ]
  },
  {
   "cell_type": "markdown",
   "metadata": {},
   "source": [
    "<span style=\"color: cyan;\">As you can see in the previous section, we trained every model on a data frame with PCA applied, and in all cases, the results for the data frame with PCA are much lower than those for the original data frame. This is because when using only 2 principal components for PCA, only about 51% of the variance is retained. To retain 95% of the variance, we would need to use 6 principal components. Therefore, it makes sense that our results with PCA are significantly lower.</span>"
   ]
  },
  {
   "cell_type": "markdown",
   "metadata": {},
   "source": [
    "## <span style=\"color: orange;\">**Part 7: Overall Report and Discussions**</span>"
   ]
  },
  {
   "cell_type": "markdown",
   "metadata": {},
   "source": [
    "###  <span style=\"color: pink;\"> Phase 0: </span>\n",
    "\n",
    "<span style=\"color: cyan;\">\n",
    "Initially, we aimed to analyze house prices because we found it interesting. Therefore, we searched various websites for a relatively comprehensive dataset for houses and eventually found this dataset.\n",
    "</span>\n",
    "\n",
    "### <span style=\"color: pink;\"> Phase 1: </span>\n",
    "\n",
    "<span style=\"color: cyan;\">\n",
    "\n",
    "First, we performed preprocessing, handling missing data and translating words in some columns that were in Chinese. After completing preprocessing, we displayed some interesting aspects of the dataset. After these analyses, we discovered that the columns `communityAverage` and `tradeTimeYear` are related to our target column. We also found that proximity to the city center and urban areas (district) positively impacts the target column.\n",
    "\n",
    "</span>\n",
    "\n",
    "### <span style=\"color: pink;\"> Phase 2: </span>\n",
    "\n",
    "<span style=\"color: cyan;\">\n",
    "\n",
    "At the beginning of this phase, we carried out some preprocessing tasks that were not necessary in Phase 1. Then, in the feature engineering part, we created some new features like `distanceToCenter` and `districtLevel`, which had a relatively good relationship with the target column. Next, as described in the instructions, we used PCA to reduce the dimensions of the numerical features and found that to retain 95% of the variance, we need 6 dimensions, and 2 dimensions are not sufficient.\n",
    "\n",
    "In the subsequent section, we explained the metrics we considered for model evaluation. Since our task was not classification, we used metrics like R² Score and RMSE. Following the instructions, we trained models like CNN, Linear Regression, and Decision Tree on the dataset. The evaluation results on the test data were relatively good, but since we were aiming for better accuracy, we also implemented XGBoostClassifier and XGBoostRegressor models. The best result was obtained from the XGBoostRegressor model.\n",
    "\n",
    "In the final step, we compared the results between the original dataset and the dataset with PCA. As expected, the results for the original dataset were better because in the dataset with PCA, only about 51% of the variance was retained.\n",
    "</span>"
   ]
  }
 ],
 "metadata": {
  "kernelspec": {
   "display_name": "Python 3",
   "language": "python",
   "name": "python3"
  },
  "language_info": {
   "codemirror_mode": {
    "name": "ipython",
    "version": 3
   },
   "file_extension": ".py",
   "mimetype": "text/x-python",
   "name": "python",
   "nbconvert_exporter": "python",
   "pygments_lexer": "ipython3",
   "version": "3.12.2"
  }
 },
 "nbformat": 4,
 "nbformat_minor": 2
}
