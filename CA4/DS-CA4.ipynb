{
 "cells": [
  {
   "cell_type": "markdown",
   "metadata": {},
   "source": [
    "### Ali Darabi - 810100264\n",
    "### Hesam Ramezanian - 810100248"
   ]
  },
  {
   "cell_type": "markdown",
   "metadata": {},
   "source": [
    "# Data Science - Assignment 4"
   ]
  },
  {
   "cell_type": "code",
   "execution_count": 1,
   "metadata": {},
   "outputs": [],
   "source": [
    "from sklearn.datasets import load_diabetes\n",
    "import pandas as pd\n",
    "import matplotlib.pyplot as plt\n",
    "from tabulate import tabulate\n",
    "from sklearn.preprocessing import StandardScaler\n",
    "from sklearn.model_selection import train_test_split\n",
    "from sklearn.linear_model import LinearRegression\n",
    "import statsmodels.api as sm"
   ]
  },
  {
   "cell_type": "markdown",
   "metadata": {},
   "source": [
    "# <span style=\"color:pink\">Warm-Up!</span>"
   ]
  },
  {
   "cell_type": "code",
   "execution_count": 2,
   "metadata": {},
   "outputs": [],
   "source": [
    "diabetes = load_diabetes()\n",
    "data = pd.DataFrame(diabetes.data, columns=diabetes.feature_names)\n",
    "target = pd.DataFrame(diabetes.target, columns=['target'])\n",
    "diabetesDf = pd.concat([data, target], axis=1)\n"
   ]
  },
  {
   "cell_type": "code",
   "execution_count": 3,
   "metadata": {},
   "outputs": [
    {
     "data": {
      "text/html": [
       "<div>\n",
       "<style scoped>\n",
       "    .dataframe tbody tr th:only-of-type {\n",
       "        vertical-align: middle;\n",
       "    }\n",
       "\n",
       "    .dataframe tbody tr th {\n",
       "        vertical-align: top;\n",
       "    }\n",
       "\n",
       "    .dataframe thead th {\n",
       "        text-align: right;\n",
       "    }\n",
       "</style>\n",
       "<table border=\"1\" class=\"dataframe\">\n",
       "  <thead>\n",
       "    <tr style=\"text-align: right;\">\n",
       "      <th></th>\n",
       "      <th>age</th>\n",
       "      <th>sex</th>\n",
       "      <th>bmi</th>\n",
       "      <th>bp</th>\n",
       "      <th>s1</th>\n",
       "      <th>s2</th>\n",
       "      <th>s3</th>\n",
       "      <th>s4</th>\n",
       "      <th>s5</th>\n",
       "      <th>s6</th>\n",
       "      <th>target</th>\n",
       "    </tr>\n",
       "  </thead>\n",
       "  <tbody>\n",
       "    <tr>\n",
       "      <th>0</th>\n",
       "      <td>0.038076</td>\n",
       "      <td>0.050680</td>\n",
       "      <td>0.061696</td>\n",
       "      <td>0.021872</td>\n",
       "      <td>-0.044223</td>\n",
       "      <td>-0.034821</td>\n",
       "      <td>-0.043401</td>\n",
       "      <td>-0.002592</td>\n",
       "      <td>0.019907</td>\n",
       "      <td>-0.017646</td>\n",
       "      <td>151.0</td>\n",
       "    </tr>\n",
       "    <tr>\n",
       "      <th>1</th>\n",
       "      <td>-0.001882</td>\n",
       "      <td>-0.044642</td>\n",
       "      <td>-0.051474</td>\n",
       "      <td>-0.026328</td>\n",
       "      <td>-0.008449</td>\n",
       "      <td>-0.019163</td>\n",
       "      <td>0.074412</td>\n",
       "      <td>-0.039493</td>\n",
       "      <td>-0.068332</td>\n",
       "      <td>-0.092204</td>\n",
       "      <td>75.0</td>\n",
       "    </tr>\n",
       "    <tr>\n",
       "      <th>2</th>\n",
       "      <td>0.085299</td>\n",
       "      <td>0.050680</td>\n",
       "      <td>0.044451</td>\n",
       "      <td>-0.005670</td>\n",
       "      <td>-0.045599</td>\n",
       "      <td>-0.034194</td>\n",
       "      <td>-0.032356</td>\n",
       "      <td>-0.002592</td>\n",
       "      <td>0.002861</td>\n",
       "      <td>-0.025930</td>\n",
       "      <td>141.0</td>\n",
       "    </tr>\n",
       "    <tr>\n",
       "      <th>3</th>\n",
       "      <td>-0.089063</td>\n",
       "      <td>-0.044642</td>\n",
       "      <td>-0.011595</td>\n",
       "      <td>-0.036656</td>\n",
       "      <td>0.012191</td>\n",
       "      <td>0.024991</td>\n",
       "      <td>-0.036038</td>\n",
       "      <td>0.034309</td>\n",
       "      <td>0.022688</td>\n",
       "      <td>-0.009362</td>\n",
       "      <td>206.0</td>\n",
       "    </tr>\n",
       "    <tr>\n",
       "      <th>4</th>\n",
       "      <td>0.005383</td>\n",
       "      <td>-0.044642</td>\n",
       "      <td>-0.036385</td>\n",
       "      <td>0.021872</td>\n",
       "      <td>0.003935</td>\n",
       "      <td>0.015596</td>\n",
       "      <td>0.008142</td>\n",
       "      <td>-0.002592</td>\n",
       "      <td>-0.031988</td>\n",
       "      <td>-0.046641</td>\n",
       "      <td>135.0</td>\n",
       "    </tr>\n",
       "    <tr>\n",
       "      <th>5</th>\n",
       "      <td>-0.092695</td>\n",
       "      <td>-0.044642</td>\n",
       "      <td>-0.040696</td>\n",
       "      <td>-0.019442</td>\n",
       "      <td>-0.068991</td>\n",
       "      <td>-0.079288</td>\n",
       "      <td>0.041277</td>\n",
       "      <td>-0.076395</td>\n",
       "      <td>-0.041176</td>\n",
       "      <td>-0.096346</td>\n",
       "      <td>97.0</td>\n",
       "    </tr>\n",
       "    <tr>\n",
       "      <th>6</th>\n",
       "      <td>-0.045472</td>\n",
       "      <td>0.050680</td>\n",
       "      <td>-0.047163</td>\n",
       "      <td>-0.015999</td>\n",
       "      <td>-0.040096</td>\n",
       "      <td>-0.024800</td>\n",
       "      <td>0.000779</td>\n",
       "      <td>-0.039493</td>\n",
       "      <td>-0.062917</td>\n",
       "      <td>-0.038357</td>\n",
       "      <td>138.0</td>\n",
       "    </tr>\n",
       "    <tr>\n",
       "      <th>7</th>\n",
       "      <td>0.063504</td>\n",
       "      <td>0.050680</td>\n",
       "      <td>-0.001895</td>\n",
       "      <td>0.066629</td>\n",
       "      <td>0.090620</td>\n",
       "      <td>0.108914</td>\n",
       "      <td>0.022869</td>\n",
       "      <td>0.017703</td>\n",
       "      <td>-0.035816</td>\n",
       "      <td>0.003064</td>\n",
       "      <td>63.0</td>\n",
       "    </tr>\n",
       "    <tr>\n",
       "      <th>8</th>\n",
       "      <td>0.041708</td>\n",
       "      <td>0.050680</td>\n",
       "      <td>0.061696</td>\n",
       "      <td>-0.040099</td>\n",
       "      <td>-0.013953</td>\n",
       "      <td>0.006202</td>\n",
       "      <td>-0.028674</td>\n",
       "      <td>-0.002592</td>\n",
       "      <td>-0.014960</td>\n",
       "      <td>0.011349</td>\n",
       "      <td>110.0</td>\n",
       "    </tr>\n",
       "    <tr>\n",
       "      <th>9</th>\n",
       "      <td>-0.070900</td>\n",
       "      <td>-0.044642</td>\n",
       "      <td>0.039062</td>\n",
       "      <td>-0.033213</td>\n",
       "      <td>-0.012577</td>\n",
       "      <td>-0.034508</td>\n",
       "      <td>-0.024993</td>\n",
       "      <td>-0.002592</td>\n",
       "      <td>0.067737</td>\n",
       "      <td>-0.013504</td>\n",
       "      <td>310.0</td>\n",
       "    </tr>\n",
       "  </tbody>\n",
       "</table>\n",
       "</div>"
      ],
      "text/plain": [
       "        age       sex       bmi        bp        s1        s2        s3  \\\n",
       "0  0.038076  0.050680  0.061696  0.021872 -0.044223 -0.034821 -0.043401   \n",
       "1 -0.001882 -0.044642 -0.051474 -0.026328 -0.008449 -0.019163  0.074412   \n",
       "2  0.085299  0.050680  0.044451 -0.005670 -0.045599 -0.034194 -0.032356   \n",
       "3 -0.089063 -0.044642 -0.011595 -0.036656  0.012191  0.024991 -0.036038   \n",
       "4  0.005383 -0.044642 -0.036385  0.021872  0.003935  0.015596  0.008142   \n",
       "5 -0.092695 -0.044642 -0.040696 -0.019442 -0.068991 -0.079288  0.041277   \n",
       "6 -0.045472  0.050680 -0.047163 -0.015999 -0.040096 -0.024800  0.000779   \n",
       "7  0.063504  0.050680 -0.001895  0.066629  0.090620  0.108914  0.022869   \n",
       "8  0.041708  0.050680  0.061696 -0.040099 -0.013953  0.006202 -0.028674   \n",
       "9 -0.070900 -0.044642  0.039062 -0.033213 -0.012577 -0.034508 -0.024993   \n",
       "\n",
       "         s4        s5        s6  target  \n",
       "0 -0.002592  0.019907 -0.017646   151.0  \n",
       "1 -0.039493 -0.068332 -0.092204    75.0  \n",
       "2 -0.002592  0.002861 -0.025930   141.0  \n",
       "3  0.034309  0.022688 -0.009362   206.0  \n",
       "4 -0.002592 -0.031988 -0.046641   135.0  \n",
       "5 -0.076395 -0.041176 -0.096346    97.0  \n",
       "6 -0.039493 -0.062917 -0.038357   138.0  \n",
       "7  0.017703 -0.035816  0.003064    63.0  \n",
       "8 -0.002592 -0.014960  0.011349   110.0  \n",
       "9 -0.002592  0.067737 -0.013504   310.0  "
      ]
     },
     "execution_count": 3,
     "metadata": {},
     "output_type": "execute_result"
    }
   ],
   "source": [
    "diabetesDf.head(10)"
   ]
  },
  {
   "cell_type": "code",
   "execution_count": 4,
   "metadata": {},
   "outputs": [
    {
     "data": {
      "text/plain": [
       "age       float64\n",
       "sex       float64\n",
       "bmi       float64\n",
       "bp        float64\n",
       "s1        float64\n",
       "s2        float64\n",
       "s3        float64\n",
       "s4        float64\n",
       "s5        float64\n",
       "s6        float64\n",
       "target    float64\n",
       "dtype: object"
      ]
     },
     "execution_count": 4,
     "metadata": {},
     "output_type": "execute_result"
    }
   ],
   "source": [
    "diabetesDf.dtypes"
   ]
  },
  {
   "cell_type": "code",
   "execution_count": 5,
   "metadata": {},
   "outputs": [
    {
     "name": "stdout",
     "output_type": "stream",
     "text": [
      "<class 'pandas.core.frame.DataFrame'>\n",
      "RangeIndex: 442 entries, 0 to 441\n",
      "Data columns (total 11 columns):\n",
      " #   Column  Non-Null Count  Dtype  \n",
      "---  ------  --------------  -----  \n",
      " 0   age     442 non-null    float64\n",
      " 1   sex     442 non-null    float64\n",
      " 2   bmi     442 non-null    float64\n",
      " 3   bp      442 non-null    float64\n",
      " 4   s1      442 non-null    float64\n",
      " 5   s2      442 non-null    float64\n",
      " 6   s3      442 non-null    float64\n",
      " 7   s4      442 non-null    float64\n",
      " 8   s5      442 non-null    float64\n",
      " 9   s6      442 non-null    float64\n",
      " 10  target  442 non-null    float64\n",
      "dtypes: float64(11)\n",
      "memory usage: 38.1 KB\n"
     ]
    }
   ],
   "source": [
    "diabetesDf.info()"
   ]
  },
  {
   "cell_type": "code",
   "execution_count": 6,
   "metadata": {},
   "outputs": [
    {
     "name": "stdout",
     "output_type": "stream",
     "text": [
      "Missing Values:\n",
      "age       0\n",
      "sex       0\n",
      "bmi       0\n",
      "bp        0\n",
      "s1        0\n",
      "s2        0\n",
      "s3        0\n",
      "s4        0\n",
      "s5        0\n",
      "s6        0\n",
      "target    0\n",
      "dtype: int64\n"
     ]
    }
   ],
   "source": [
    "missingValues = diabetesDf.isnull().sum()\n",
    "print(\"Missing Values:\")\n",
    "print(missingValues)"
   ]
  },
  {
   "cell_type": "code",
   "execution_count": 7,
   "metadata": {},
   "outputs": [
    {
     "data": {
      "text/html": [
       "<div>\n",
       "<style scoped>\n",
       "    .dataframe tbody tr th:only-of-type {\n",
       "        vertical-align: middle;\n",
       "    }\n",
       "\n",
       "    .dataframe tbody tr th {\n",
       "        vertical-align: top;\n",
       "    }\n",
       "\n",
       "    .dataframe thead th {\n",
       "        text-align: right;\n",
       "    }\n",
       "</style>\n",
       "<table border=\"1\" class=\"dataframe\">\n",
       "  <thead>\n",
       "    <tr style=\"text-align: right;\">\n",
       "      <th></th>\n",
       "      <th>age</th>\n",
       "      <th>sex</th>\n",
       "      <th>bmi</th>\n",
       "      <th>bp</th>\n",
       "      <th>s1</th>\n",
       "      <th>s2</th>\n",
       "      <th>s3</th>\n",
       "      <th>s4</th>\n",
       "      <th>s5</th>\n",
       "      <th>s6</th>\n",
       "      <th>target</th>\n",
       "    </tr>\n",
       "  </thead>\n",
       "  <tbody>\n",
       "    <tr>\n",
       "      <th>0</th>\n",
       "      <td>0.800500</td>\n",
       "      <td>1.065488</td>\n",
       "      <td>1.297088</td>\n",
       "      <td>0.459841</td>\n",
       "      <td>-0.929746</td>\n",
       "      <td>-0.732065</td>\n",
       "      <td>-0.912451</td>\n",
       "      <td>-0.054499</td>\n",
       "      <td>0.418531</td>\n",
       "      <td>-0.370989</td>\n",
       "      <td>151.0</td>\n",
       "    </tr>\n",
       "    <tr>\n",
       "      <th>1</th>\n",
       "      <td>-0.039567</td>\n",
       "      <td>-0.938537</td>\n",
       "      <td>-1.082180</td>\n",
       "      <td>-0.553505</td>\n",
       "      <td>-0.177624</td>\n",
       "      <td>-0.402886</td>\n",
       "      <td>1.564414</td>\n",
       "      <td>-0.830301</td>\n",
       "      <td>-1.436589</td>\n",
       "      <td>-1.938479</td>\n",
       "      <td>75.0</td>\n",
       "    </tr>\n",
       "    <tr>\n",
       "      <th>2</th>\n",
       "      <td>1.793307</td>\n",
       "      <td>1.065488</td>\n",
       "      <td>0.934533</td>\n",
       "      <td>-0.119214</td>\n",
       "      <td>-0.958674</td>\n",
       "      <td>-0.718897</td>\n",
       "      <td>-0.680245</td>\n",
       "      <td>-0.054499</td>\n",
       "      <td>0.060156</td>\n",
       "      <td>-0.545154</td>\n",
       "      <td>141.0</td>\n",
       "    </tr>\n",
       "    <tr>\n",
       "      <th>3</th>\n",
       "      <td>-1.872441</td>\n",
       "      <td>-0.938537</td>\n",
       "      <td>-0.243771</td>\n",
       "      <td>-0.770650</td>\n",
       "      <td>0.256292</td>\n",
       "      <td>0.525397</td>\n",
       "      <td>-0.757647</td>\n",
       "      <td>0.721302</td>\n",
       "      <td>0.476983</td>\n",
       "      <td>-0.196823</td>\n",
       "      <td>206.0</td>\n",
       "    </tr>\n",
       "    <tr>\n",
       "      <th>4</th>\n",
       "      <td>0.113172</td>\n",
       "      <td>-0.938537</td>\n",
       "      <td>-0.764944</td>\n",
       "      <td>0.459841</td>\n",
       "      <td>0.082726</td>\n",
       "      <td>0.327890</td>\n",
       "      <td>0.171178</td>\n",
       "      <td>-0.054499</td>\n",
       "      <td>-0.672502</td>\n",
       "      <td>-0.980568</td>\n",
       "      <td>135.0</td>\n",
       "    </tr>\n",
       "    <tr>\n",
       "      <th>5</th>\n",
       "      <td>-1.948811</td>\n",
       "      <td>-0.938537</td>\n",
       "      <td>-0.855583</td>\n",
       "      <td>-0.408741</td>\n",
       "      <td>-1.450445</td>\n",
       "      <td>-1.666931</td>\n",
       "      <td>0.867796</td>\n",
       "      <td>-1.606102</td>\n",
       "      <td>-0.865679</td>\n",
       "      <td>-2.025562</td>\n",
       "      <td>97.0</td>\n",
       "    </tr>\n",
       "    <tr>\n",
       "      <th>6</th>\n",
       "      <td>-0.956004</td>\n",
       "      <td>1.065488</td>\n",
       "      <td>-0.991541</td>\n",
       "      <td>-0.336359</td>\n",
       "      <td>-0.842963</td>\n",
       "      <td>-0.521390</td>\n",
       "      <td>0.016374</td>\n",
       "      <td>-0.830301</td>\n",
       "      <td>-1.322752</td>\n",
       "      <td>-0.806403</td>\n",
       "      <td>138.0</td>\n",
       "    </tr>\n",
       "    <tr>\n",
       "      <th>7</th>\n",
       "      <td>1.335088</td>\n",
       "      <td>1.065488</td>\n",
       "      <td>-0.039834</td>\n",
       "      <td>1.400804</td>\n",
       "      <td>1.905174</td>\n",
       "      <td>2.289794</td>\n",
       "      <td>0.480786</td>\n",
       "      <td>0.372192</td>\n",
       "      <td>-0.752992</td>\n",
       "      <td>0.064426</td>\n",
       "      <td>63.0</td>\n",
       "    </tr>\n",
       "    <tr>\n",
       "      <th>8</th>\n",
       "      <td>0.876870</td>\n",
       "      <td>1.065488</td>\n",
       "      <td>1.297088</td>\n",
       "      <td>-0.843032</td>\n",
       "      <td>-0.293335</td>\n",
       "      <td>0.130383</td>\n",
       "      <td>-0.602843</td>\n",
       "      <td>-0.054499</td>\n",
       "      <td>-0.314510</td>\n",
       "      <td>0.238591</td>\n",
       "      <td>110.0</td>\n",
       "    </tr>\n",
       "    <tr>\n",
       "      <th>9</th>\n",
       "      <td>-1.490592</td>\n",
       "      <td>-0.938537</td>\n",
       "      <td>0.821235</td>\n",
       "      <td>-0.698268</td>\n",
       "      <td>-0.264408</td>\n",
       "      <td>-0.725481</td>\n",
       "      <td>-0.525441</td>\n",
       "      <td>-0.054499</td>\n",
       "      <td>1.424090</td>\n",
       "      <td>-0.283906</td>\n",
       "      <td>310.0</td>\n",
       "    </tr>\n",
       "  </tbody>\n",
       "</table>\n",
       "</div>"
      ],
      "text/plain": [
       "        age       sex       bmi        bp        s1        s2        s3  \\\n",
       "0  0.800500  1.065488  1.297088  0.459841 -0.929746 -0.732065 -0.912451   \n",
       "1 -0.039567 -0.938537 -1.082180 -0.553505 -0.177624 -0.402886  1.564414   \n",
       "2  1.793307  1.065488  0.934533 -0.119214 -0.958674 -0.718897 -0.680245   \n",
       "3 -1.872441 -0.938537 -0.243771 -0.770650  0.256292  0.525397 -0.757647   \n",
       "4  0.113172 -0.938537 -0.764944  0.459841  0.082726  0.327890  0.171178   \n",
       "5 -1.948811 -0.938537 -0.855583 -0.408741 -1.450445 -1.666931  0.867796   \n",
       "6 -0.956004  1.065488 -0.991541 -0.336359 -0.842963 -0.521390  0.016374   \n",
       "7  1.335088  1.065488 -0.039834  1.400804  1.905174  2.289794  0.480786   \n",
       "8  0.876870  1.065488  1.297088 -0.843032 -0.293335  0.130383 -0.602843   \n",
       "9 -1.490592 -0.938537  0.821235 -0.698268 -0.264408 -0.725481 -0.525441   \n",
       "\n",
       "         s4        s5        s6  target  \n",
       "0 -0.054499  0.418531 -0.370989   151.0  \n",
       "1 -0.830301 -1.436589 -1.938479    75.0  \n",
       "2 -0.054499  0.060156 -0.545154   141.0  \n",
       "3  0.721302  0.476983 -0.196823   206.0  \n",
       "4 -0.054499 -0.672502 -0.980568   135.0  \n",
       "5 -1.606102 -0.865679 -2.025562    97.0  \n",
       "6 -0.830301 -1.322752 -0.806403   138.0  \n",
       "7  0.372192 -0.752992  0.064426    63.0  \n",
       "8 -0.054499 -0.314510  0.238591   110.0  \n",
       "9 -0.054499  1.424090 -0.283906   310.0  "
      ]
     },
     "execution_count": 7,
     "metadata": {},
     "output_type": "execute_result"
    }
   ],
   "source": [
    "x = diabetesDf.drop('target', axis=1)\n",
    "y = diabetesDf['target']\n",
    "\n",
    "scaler = StandardScaler()\n",
    "xScaled = scaler.fit_transform(x)\n",
    "\n",
    "xScaledDf = pd.DataFrame(xScaled, columns=x.columns)\n",
    "diabetesScaledDf = pd.concat([xScaledDf, y], axis=1)\n",
    "\n",
    "diabetesScaledDf.head(10)"
   ]
  },
  {
   "cell_type": "code",
   "execution_count": 8,
   "metadata": {},
   "outputs": [
    {
     "name": "stdout",
     "output_type": "stream",
     "text": [
      "Number of instances in the training dataset: 419\n",
      "Number of instances in the testing dataset: 23\n"
     ]
    }
   ],
   "source": [
    "x = diabetesScaledDf.drop('target', axis=1)\n",
    "y = diabetesScaledDf['target']\n",
    "xTrain, xTest, yTrain, yTest = train_test_split(x, y, test_size=0.05, random_state=99)\n",
    "\n",
    "print(\"Number of instances in the training dataset:\", len(xTrain))\n",
    "print(\"Number of instances in the testing dataset:\", len(xTest))"
   ]
  },
  {
   "cell_type": "markdown",
   "metadata": {},
   "source": [
    "# <span style=\"color:pink\">Main Task</span>"
   ]
  },
  {
   "cell_type": "markdown",
   "metadata": {},
   "source": [
    "## <span style=\"color:pink\">Part 1: Functions’ Implementation</span>"
   ]
  },
  {
   "cell_type": "code",
   "execution_count": 9,
   "metadata": {},
   "outputs": [],
   "source": [
    "def meanSquaredError(yTrue, yPred):\n",
    "    n = len(yTrue)\n",
    "    mse = sum((yTrue - yPred) ** 2) / n\n",
    "    return mse\n",
    "\n",
    "def meanAbsoluteError(yTrue, yPred):\n",
    "    n = len(yTrue)\n",
    "    mae = sum(abs(yTrue - yPred)) / n\n",
    "    return mae\n",
    "\n",
    "def rootMeanSquaredError(yTrue, yPred):\n",
    "    mse = meanSquaredError(yTrue, yPred)\n",
    "    rmse = mse ** 0.5\n",
    "    return rmse\n",
    "\n",
    "def r2Score(yTrue, yPred):\n",
    "    meanTrue = sum(yTrue) / len(yTrue)\n",
    "    ssTotal = sum((yTrue - meanTrue) ** 2)\n",
    "    ssResidual = sum((yTrue - yPred) ** 2)\n",
    "    r2 = 1 - (ssResidual / ssTotal)\n",
    "    return r2"
   ]
  },
  {
   "cell_type": "markdown",
   "metadata": {},
   "source": [
    "## <span style=\"color:pink\">Part 2: Building and Training the Linear Regression Model</span>"
   ]
  },
  {
   "cell_type": "code",
   "execution_count": 10,
   "metadata": {},
   "outputs": [
    {
     "name": "stdout",
     "output_type": "stream",
     "text": [
      "Coefficients: [ -1.47353934 -12.76561091  23.31525315  16.29689853 -35.91795279\n",
      "  22.2831563    3.36357294   6.83637808  35.05842623   4.00658758]\n",
      "Intercept: 152.47004682109633\n"
     ]
    }
   ],
   "source": [
    "model = LinearRegression()\n",
    "model.fit(xTrain, yTrain)\n",
    "\n",
    "print(\"Coefficients:\", model.coef_)\n",
    "print(\"Intercept:\", model.intercept_)"
   ]
  },
  {
   "cell_type": "markdown",
   "metadata": {},
   "source": [
    "## <span style=\"color:pink\">Part 3: Model Evaluation</span>"
   ]
  },
  {
   "cell_type": "code",
   "execution_count": 11,
   "metadata": {},
   "outputs": [
    {
     "data": {
      "image/png": "[encoded data removed]",
      "text/plain": [
       "<Figure size 600x400 with 1 Axes>"
      ]
     },
     "metadata": {},
     "output_type": "display_data"
    }
   ],
   "source": [
    "yPred = model.predict(xTest)\n",
    "\n",
    "plt.figure(figsize=(6, 4))\n",
    "plt.scatter(yTest, yPred, color='red', alpha=1)\n",
    "plt.title('Actual vs Predicted Progression Measures')\n",
    "plt.xlabel('Actual Progression Measures')\n",
    "plt.ylabel('Predicted Progression Measures')\n",
    "plt.grid(True)\n",
    "plt.show()"
   ]
  },
  {
   "cell_type": "code",
   "execution_count": 12,
   "metadata": {},
   "outputs": [
    {
     "data": {
      "image/png": "[encoded data removed]",
      "text/plain": [
       "<Figure size 600x400 with 1 Axes>"
      ]
     },
     "metadata": {},
     "output_type": "display_data"
    }
   ],
   "source": [
    "yTrainPred = model.predict(xTrain)\n",
    "\n",
    "plt.figure(figsize=(6, 4))\n",
    "plt.scatter(yTrain, yTrainPred, color='red', alpha=1)\n",
    "plt.title('Actual vs Predicted Progression Measures')\n",
    "plt.xlabel('Actual Progression Measures')\n",
    "plt.ylabel('Predicted Progression Measures')\n",
    "plt.grid(True)\n",
    "plt.show()"
   ]
  },
  {
   "cell_type": "code",
   "execution_count": 13,
   "metadata": {},
   "outputs": [],
   "source": [
    "mseTrain = meanSquaredError(yTrain, yTrainPred)\n",
    "maeTrain = meanAbsoluteError(yTrain, yTrainPred)\n",
    "rmseTrain = rootMeanSquaredError(yTrain, yTrainPred)\n",
    "r2ScoreTrain = r2Score(yTrain, yTrainPred)\n",
    "\n",
    "mseTest = meanSquaredError(yTest, yPred)\n",
    "maeTest = meanAbsoluteError(yTest, yPred)\n",
    "rmseTest = rootMeanSquaredError(yTest, yPred)\n",
    "r2ScoreTest = r2Score(yTest, yPred)"
   ]
  },
  {
   "cell_type": "code",
   "execution_count": 14,
   "metadata": {},
   "outputs": [
    {
     "name": "stdout",
     "output_type": "stream",
     "text": [
      "╒═══════════════════════╤═══════════╤═════════╤═════════╤════════════╕\n",
      "│ Data Type/Optimizer   │       MSE │     MAE │    RMSE │   R² Score │\n",
      "╞═══════════════════════╪═══════════╪═════════╪═════════╪════════════╡\n",
      "│ Train Set             │ 2842.9463 │ 42.9559 │ 53.3193 │     0.5114 │\n",
      "├───────────────────────┼───────────┼─────────┼─────────┼────────────┤\n",
      "│ Test Set              │ 3260.5854 │ 48.6312 │ 57.1015 │     0.5903 │\n",
      "╘═══════════════════════╧═══════════╧═════════╧═════════╧════════════╛\n"
     ]
    }
   ],
   "source": [
    "table_data = [\n",
    "    ['Train Set', mseTrain, maeTrain, rmseTrain, r2ScoreTrain],\n",
    "    ['Test Set', mseTest, maeTest, rmseTest, r2ScoreTest]\n",
    "]\n",
    "\n",
    "headers = ['Data Type/Optimizer', 'MSE', 'MAE', 'RMSE', 'R² Score']\n",
    "\n",
    "print(tabulate(table_data, headers=headers, floatfmt=\".4f\", tablefmt=\"fancy_grid\"))"
   ]
  },
  {
   "cell_type": "markdown",
   "metadata": {},
   "source": [
    "## <span style=\"color:pink\">Part 4: Ordinary Least Squares</span>"
   ]
  },
  {
   "cell_type": "code",
   "execution_count": 15,
   "metadata": {},
   "outputs": [
    {
     "name": "stdout",
     "output_type": "stream",
     "text": [
      "                            OLS Regression Results                            \n",
      "==============================================================================\n",
      "Dep. Variable:                 target   R-squared:                       0.511\n",
      "Model:                            OLS   Adj. R-squared:                  0.499\n",
      "Method:                 Least Squares   F-statistic:                     42.70\n",
      "Date:                Thu, 16 May 2024   Prob (F-statistic):           1.87e-57\n",
      "Time:                        11:18:04   Log-Likelihood:                -2260.6\n",
      "No. Observations:                 419   AIC:                             4543.\n",
      "Df Residuals:                     408   BIC:                             4588.\n",
      "Df Model:                          10                                         \n",
      "Covariance Type:            nonrobust                                         \n",
      "==============================================================================\n",
      "                 coef    std err          t      P>|t|      [0.025      0.975]\n",
      "------------------------------------------------------------------------------\n",
      "const        152.4700      2.641     57.725      0.000     147.278     157.662\n",
      "age           -1.4735      2.901     -0.508      0.612      -7.177       4.230\n",
      "sex          -12.7656      2.971     -4.296      0.000     -18.607      -6.924\n",
      "bmi           23.3153      3.298      7.069      0.000      16.831      29.799\n",
      "bp            16.2969      3.138      5.193      0.000      10.127      22.467\n",
      "s1           -35.9180     20.200     -1.778      0.076     -75.627       3.792\n",
      "s2            22.2832     16.275      1.369      0.172      -9.711      54.277\n",
      "s3             3.3636     10.330      0.326      0.745     -16.942      23.669\n",
      "s4             6.8364      8.050      0.849      0.396      -8.989      22.662\n",
      "s5            35.0584      8.289      4.229      0.000      18.764      51.353\n",
      "s6             4.0066      3.238      1.237      0.217      -2.360      10.373\n",
      "==============================================================================\n",
      "Omnibus:                        0.848   Durbin-Watson:                   2.178\n",
      "Prob(Omnibus):                  0.654   Jarque-Bera (JB):                0.905\n",
      "Skew:                          -0.000   Prob(JB):                        0.636\n",
      "Kurtosis:                       2.772   Cond. No.                         21.4\n",
      "==============================================================================\n",
      "\n",
      "Notes:\n",
      "[1] Standard Errors assume that the covariance matrix of the errors is correctly specified.\n"
     ]
    }
   ],
   "source": [
    "XTrainWithConst = sm.add_constant(xTrain)\n",
    "\n",
    "olsModel = sm.OLS(yTrain, XTrainWithConst)\n",
    "olsResults = olsModel.fit()\n",
    "\n",
    "print(olsResults.summary())"
   ]
  },
  {
   "cell_type": "markdown",
   "metadata": {},
   "source": [
    "# <span style=\"color:pink\">Questions</span>"
   ]
  },
  {
   "cell_type": "markdown",
   "metadata": {},
   "source": [
    "### <span style=\"color:pink\">1. Analyze and evaluate the values in Table (1).</span>\n",
    "\n",
    "**Mean Squared Error (MSE):**\n",
    "- The MSE on the training set is 2842, which is lower than the MSE on the test set (3260).\n",
    "- A lower MSE value is better, as it indicates that the predicted values are closer to the actual values.\n",
    "\n",
    "**Mean Absolute Error (MAE):**\n",
    "- The MAE on the training set is 42, which is lower than the MAE on the test set (48).\n",
    "- A lower MAE value is better, as it represents the average absolute difference between the predicted and actual values.\n",
    "\n",
    "**Root Mean Squared Error (RMSE):**\n",
    "- The RMSE on the training set is 53, which is lower than the RMSE on the test set (57).\n",
    "- The RMSE is the square root of the MSE, and it provides a measure of the typical magnitude of the error.\n",
    "\n",
    "**R² Score (Coefficient of Determination):**\n",
    "- The R² score on the training set is 0.5114, which is lower than the R² score on the test set (0.5903).\n",
    "- The R² score ranges from 0 to 1, with a higher value indicating a better fit of the model to the data.\n",
    "- An R² score of 0.5114 on the training set suggests that the model explains about 51.14% of the variance in the target variable.\n",
    "- An R² score of 0.5903 on the test set suggests that the model explains about 59.03% of the variance in the target variable.\n",
    "\n",
    "**Observations:**\n",
    "1. The model appears to perform better on the training set than on the test set, as indicated by the lower MSE, MAE, and RMSE values on the training set.\n",
    "2. However, the R² score is higher on the test set, which is an unexpected observation, as the model is typically expected to perform better on the training set than on the unseen test set. This could be due to the small size of the test set, which may not be representative of the overall data distribution.\n",
    "3. The R² scores on both the training and test sets are relatively low (below 0.6), suggesting that the model may not be capturing a significant portion of the variance in the target variable."
   ]
  },
  {
   "cell_type": "markdown",
   "metadata": {},
   "source": [
    "### <span style=\"color:pink\">2.  Review the R² and Adjusted R² values obtained in part 4. Explain what these values indicate and what the implications of high or low values might be. Also, discuss the differences between these two metrics.</span>\n",
    "\n",
    "### R² (R-squared):\n",
    "The R² value obtained in part 4 is 0.511, which indicates that the model explains approximately 51.1% of the variance in the target variable.\n",
    "\n",
    "### Adjusted R² (Adjusted R-squared):\n",
    "The Adjusted R² value obtained in part 4 is 0.499. The Adjusted R² is a modified version of the R² that takes into account the number of independent variables in the model and the sample size.It provides a more conservative estimate of the model's explanatory power by penalizing the addition of unnecessary independent variables. The Adjusted R² value is typically lower than the R² value, and it is used to compare the explanatory power of models with different numbers of independent variables. \n",
    "\n",
    "### Differences between R² and Adjusted R²:\n",
    "1. **Adjustment for Number of Independent Variables:** The Adjusted R² takes into account the number of independent variables in the model, while the R² does not. The Adjusted R² penalizes the addition of unnecessary independent variables, which can artificially inflate the R² value.\n",
    "2. **Model Comparison:** The Adjusted R² is more useful when comparing models with different numbers of independent variables. It allows for a fair comparison of the explanatory power of different models, as it accounts for the impact of adding or removing independent variables.\n",
    "\n",
    "### Implications of High or Low Values:\n",
    "- **High R² and Adjusted R² values** (close to 1) indicate that the model fits the data well and explains a significant portion of the variance in the dependent variable. This suggests that the independent variables are relevant and useful for predicting the dependent variable.\n",
    "- **Low R² and Adjusted R² values** (close to 0) indicate that the model does not fit the data well and fails to explain a substantial portion of the variance in the dependent variable. This may suggest that important independent variables are missing from the model or that the relationships between the variables are not linear.\n",
    "\n",
    "$$\\text{Adjusted R}^2 = 1 - \\left[\\frac{(1 - \\text{R}^2) \\times (n - 1)}{n - k - 1}\\right]$$\n",
    "\n",
    "n is the sample size\n",
    "\n",
    "k is the number of predictors (independent variables) in the model\n",
    "\n",
    "R^2 is the R-squared score (coefficient of determination)"
   ]
  },
  {
   "cell_type": "markdown",
   "metadata": {},
   "source": [
    "### <span style=\"color:pink\">3. Review the p-values obtained in part 4 for each column of data and explain what these values indicate. Discuss what an appropriate value for p-values is and which columns currently have suitable values.</span>\n",
    "\n",
    "The p-values obtained in part 4 indicate the statistical significance of each independent variable (feature) in the model. A lower p-value suggests that the corresponding feature is more likely to be significant in predicting the target variable.\n",
    "\n",
    "Typically, a p-value less than or equal to 0.05 (5% significance level) is considered statistically significant, meaning that the feature has a significant impact on the target variable. However, the appropriate p-value threshold can vary depending on the specific problem and the desired level of confidence.\n",
    "\n",
    "1. `age`: p-value = 0.612\n",
    "   - The p-value is greater than 0.05, indicating that the age feature is not statistically significant in predicting the target variable.\n",
    "\n",
    "2. `sex`: p-value = 0.000\n",
    "   - The p-value is less than 0.05, suggesting that the sex feature is statistically significant and has a significant impact on the target variable.\n",
    "\n",
    "3. `bmi`: p-value = 0.000\n",
    "   - The p-value is less than 0.05, indicating that the bmi (body mass index) feature is statistically significant in predicting the target variable.\n",
    "\n",
    "4. `bp`: p-value = 0.000\n",
    "   - The p-value is less than 0.05, suggesting that the bp (blood pressure) feature is statistically significant and has a significant impact on the target variable.\n",
    "\n",
    "5. `s1`: p-value = 0.076\n",
    "   - The p-value is greater than 0.05, indicating that the s1 feature is not statistically significant in predicting the target variable.\n",
    "\n",
    "6. `s2`: p-value = 0.172\n",
    "   - The p-value is greater than 0.05, suggesting that the s2 feature is not statistically significant in predicting the target variable.\n",
    "\n",
    "7. `s3`: p-value = 0.745\n",
    "   - The p-value is greater than 0.05, indicating that the s3 feature is not statistically significant in predicting the target variable.\n",
    "\n",
    "8. `s4`: p-value = 0.396\n",
    "   - The p-value is greater than 0.05, suggesting that the s4 feature is not statistically significant in predicting the target variable.\n",
    "\n",
    "9. `s5`: p-value = 0.000\n",
    "   - The p-value is less than 0.05, indicating that the s5 feature is statistically significant in predicting the target variable.\n",
    "\n",
    "10. `s6`: p-value = 0.217\n",
    "    - The p-value is greater than 0.05, suggesting that the s6 feature is not statistically significant in predicting the target variable.\n",
    "\n",
    "Based on the p-values, the columns with suitable values (p-value ≤ 0.05) are `sex`, `bmi`, `bp`, and `s5`. These features are considered statistically significant and have a significant impact on the target variable."
   ]
  },
  {
   "cell_type": "markdown",
   "metadata": {},
   "source": [
    "### <span style=\"color:pink\">4. Assess and analyze the importance of each feature in the dataset based on the results obtained in part 4 regarding an individual's diabetic condition.</span>\n",
    "\n",
    "Based on the OLS regression results, we can assess the importance of each feature in predicting the target variable, which is likely related to an individual's diabetic condition.\n",
    "\n",
    "1. `sex`: The coefficient for the `sex` feature is -268.3816 with a p-value of 0.000, which is statistically significant. This suggests that the sex of an individual has a significant impact on the target variable, and being male (assuming sex is coded as a binary variable) is associated with a decrease of 268.3816 units in the target variable, on average, compared to females.\n",
    "\n",
    "2. `bmi`: The coefficient for the `bmi` (body mass index) feature is 490.1751 with a p-value of 0.000, which is statistically significant. This indicates that an increase in BMI is associated with an increase of 490.1751 units in the target variable, on average, suggesting that BMI is an important predictor of the target variable.\n",
    "\n",
    "3. `bp`: The coefficient for the `bp` (blood pressure) feature is 342.6227 with a p-value of 0.000, which is statistically significant. This suggests that an increase in blood pressure is associated with an increase of 342.6227 units in the target variable, on average, indicating that blood pressure is an important factor in predicting the target variable.\n",
    "\n",
    "4. `s5`: The coefficient for the `s5` feature is 737.0612 with a p-value of 0.000, which is statistically significant. This implies that an increase in the value of `s5` is associated with an increase of 737.0612 units in the target variable, on average, suggesting that `s5` is an important predictor of the target variable.\n",
    "\n",
    "5. `age`, `s1`, `s2`, `s3`, `s4`, and `s6`: These features have p-values greater than 0.05, indicating that they are not statistically significant in predicting the target variable based on the current model.\n",
    "\n",
    "In summary, based on the provided results, the most important features in predicting the target variable (potentially related to an individual's diabetic condition) appear to be `sex`, `bmi`, `bp`, and `s5`. "
   ]
  }
 ],
 "metadata": {
  "kernelspec": {
   "display_name": "Python 3",
   "language": "python",
   "name": "python3"
  },
  "language_info": {
   "codemirror_mode": {
    "name": "ipython",
    "version": 3
   },
   "file_extension": ".py",
   "mimetype": "text/x-python",
   "name": "python",
   "nbconvert_exporter": "python",
   "pygments_lexer": "ipython3",
   "version": "3.12.2"
  }
 },
 "nbformat": 4,
 "nbformat_minor": 2
}
